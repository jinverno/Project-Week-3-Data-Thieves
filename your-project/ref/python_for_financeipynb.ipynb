{
 "cells": [
  {
   "cell_type": "code",
   "execution_count": 26,
   "metadata": {
    "colab": {},
    "colab_type": "code",
    "id": "khmUetuTrg7K"
   },
   "outputs": [],
   "source": [
    "# analyst scraping\n",
    "import pandas as pd\n",
    "import numpy as np\n",
    "from bs4 import BeautifulSoup\n",
    "# we need to define the url to which we want to perform web scraping\n",
    "url = 'https://finance.yahoo.com/quote/TSLA/analysis?p=TSLA'\n",
    "\n",
    "# pandas read html function allows us to retrieve the data from yahoo finance\n",
    "data_list = pd.read_html(url)\n",
    "\n"
   ]
  },
  {
   "cell_type": "code",
   "execution_count": 2,
   "metadata": {
    "colab": {
     "base_uri": "https://localhost:8080/",
     "height": 195
    },
    "colab_type": "code",
    "id": "TueUj1SjZWBR",
    "outputId": "d253df84-04d6-4231-f3dd-e992c5dc3562"
   },
   "outputs": [
    {
     "data": {
      "text/html": [
       "<div>\n",
       "<style scoped>\n",
       "    .dataframe tbody tr th:only-of-type {\n",
       "        vertical-align: middle;\n",
       "    }\n",
       "\n",
       "    .dataframe tbody tr th {\n",
       "        vertical-align: top;\n",
       "    }\n",
       "\n",
       "    .dataframe thead th {\n",
       "        text-align: right;\n",
       "    }\n",
       "</style>\n",
       "<table border=\"1\" class=\"dataframe\">\n",
       "  <thead>\n",
       "    <tr style=\"text-align: right;\">\n",
       "      <th></th>\n",
       "      <th>Earnings Estimate</th>\n",
       "      <th>Current Qtr. (Jun 2020)</th>\n",
       "      <th>Next Qtr. (Sep 2020)</th>\n",
       "      <th>Current Year (2020)</th>\n",
       "      <th>Next Year (2021)</th>\n",
       "    </tr>\n",
       "  </thead>\n",
       "  <tbody>\n",
       "    <tr>\n",
       "      <th>0</th>\n",
       "      <td>No. of Analysts</td>\n",
       "      <td>16.00</td>\n",
       "      <td>16.00</td>\n",
       "      <td>17.00</td>\n",
       "      <td>23.00</td>\n",
       "    </tr>\n",
       "    <tr>\n",
       "      <th>1</th>\n",
       "      <td>Avg. Estimate</td>\n",
       "      <td>-0.71</td>\n",
       "      <td>1.45</td>\n",
       "      <td>4.43</td>\n",
       "      <td>11.53</td>\n",
       "    </tr>\n",
       "    <tr>\n",
       "      <th>2</th>\n",
       "      <td>Low Estimate</td>\n",
       "      <td>-2.53</td>\n",
       "      <td>0.04</td>\n",
       "      <td>2.27</td>\n",
       "      <td>4.00</td>\n",
       "    </tr>\n",
       "    <tr>\n",
       "      <th>3</th>\n",
       "      <td>High Estimate</td>\n",
       "      <td>1.22</td>\n",
       "      <td>2.95</td>\n",
       "      <td>7.83</td>\n",
       "      <td>21.65</td>\n",
       "    </tr>\n",
       "    <tr>\n",
       "      <th>4</th>\n",
       "      <td>Year Ago EPS</td>\n",
       "      <td>-1.12</td>\n",
       "      <td>1.86</td>\n",
       "      <td>0.20</td>\n",
       "      <td>4.43</td>\n",
       "    </tr>\n",
       "  </tbody>\n",
       "</table>\n",
       "</div>"
      ],
      "text/plain": [
       "  Earnings Estimate  Current Qtr. (Jun 2020)  Next Qtr. (Sep 2020)  \\\n",
       "0   No. of Analysts                    16.00                 16.00   \n",
       "1     Avg. Estimate                    -0.71                  1.45   \n",
       "2      Low Estimate                    -2.53                  0.04   \n",
       "3     High Estimate                     1.22                  2.95   \n",
       "4      Year Ago EPS                    -1.12                  1.86   \n",
       "\n",
       "   Current Year (2020)  Next Year (2021)  \n",
       "0                17.00             23.00  \n",
       "1                 4.43             11.53  \n",
       "2                 2.27              4.00  \n",
       "3                 7.83             21.65  \n",
       "4                 0.20              4.43  "
      ]
     },
     "execution_count": 2,
     "metadata": {},
     "output_type": "execute_result"
    }
   ],
   "source": [
    "earnings = data_list[0]\n",
    "earnings.head()"
   ]
  },
  {
   "cell_type": "code",
   "execution_count": 3,
   "metadata": {
    "colab": {},
    "colab_type": "code",
    "id": "a0hr0XgQZXLv"
   },
   "outputs": [],
   "source": [
    "# let's define disagreement as the relative difference between the maximum and minimum rating\n",
    "disagreement = 100*(earnings['Current Qtr. (Jun 2020)'][3] - earnings['Current Qtr. (Jun 2020)'][2])/earnings['Current Qtr. (Jun 2020)'][3]"
   ]
  },
  {
   "cell_type": "code",
   "execution_count": 4,
   "metadata": {
    "colab": {
     "base_uri": "https://localhost:8080/",
     "height": 34
    },
    "colab_type": "code",
    "id": "9mGCEXCqatOG",
    "outputId": "acb25ff1-ff38-4b1a-fa32-d0fc02316755"
   },
   "outputs": [
    {
     "data": {
      "text/plain": [
       "307.3770491803279"
      ]
     },
     "execution_count": 4,
     "metadata": {},
     "output_type": "execute_result"
    }
   ],
   "source": [
    "disagreement"
   ]
  },
  {
   "cell_type": "code",
   "execution_count": 5,
   "metadata": {
    "colab": {
     "base_uri": "https://localhost:8080/",
     "height": 202
    },
    "colab_type": "code",
    "id": "Pn0LJs4zauFt",
    "outputId": "8efa2ad4-acbe-455e-829a-2d04fbbc62b5"
   },
   "outputs": [
    {
     "name": "stdout",
     "output_type": "stream",
     "text": [
      "TSLA\n",
      "MSFT\n",
      "AMZN\n",
      "GE\n",
      "MCD\n",
      "GOOG\n",
      "FB\n",
      "AAPL\n",
      "JNJ\n",
      "NFLX\n",
      "KO\n"
     ]
    }
   ],
   "source": [
    "# now that we understand this logic, we need to repeat it for a list of stocks\n",
    "disagreement_list = []\n",
    "stock_list = ['TSLA','MSFT','AMZN','GE','MCD','GOOG','FB','AAPL','JNJ','NFLX','KO']\n",
    "for stock in stock_list:\n",
    "  print(stock)\n",
    "  url = 'https://finance.yahoo.com/quote/'+stock+'/analysis?p=' + stock\n",
    "  data_list = pd.read_html(url)\n",
    "  earnings = data_list[0]\n",
    "  disagreement = 100*(earnings['Current Qtr. (Jun 2020)'][3] - earnings['Current Qtr. (Jun 2020)'][2])/earnings['Current Qtr. (Jun 2020)'][3]\n",
    "  disagreement_list.append([abs(disagreement),stock])"
   ]
  },
  {
   "cell_type": "code",
   "execution_count": 6,
   "metadata": {
    "colab": {
     "base_uri": "https://localhost:8080/",
     "height": 202
    },
    "colab_type": "code",
    "id": "cq8Dczkja8FY",
    "outputId": "08585063-abb9-4b36-bddf-8d41d2816505"
   },
   "outputs": [
    {
     "data": {
      "text/plain": [
       "[[307.3770491803279, 'TSLA'],\n",
       " [15.2317880794702, 'MSFT'],\n",
       " [168.19484240687677, 'AMZN'],\n",
       " [800.0, 'GE'],\n",
       " [70.07874015748031, 'MCD'],\n",
       " [44.04296875, 'GOOG'],\n",
       " [40.12345679012346, 'FB'],\n",
       " [37.24696356275304, 'AAPL'],\n",
       " [21.301775147928986, 'JNJ'],\n",
       " [23.188405797101442, 'NFLX'],\n",
       " [35.294117647058826, 'KO']]"
      ]
     },
     "execution_count": 6,
     "metadata": {},
     "output_type": "execute_result"
    }
   ],
   "source": [
    "disagreement_list"
   ]
  },
  {
   "cell_type": "code",
   "execution_count": 7,
   "metadata": {
    "colab": {},
    "colab_type": "code",
    "id": "ko40RjGqbRCp"
   },
   "outputs": [],
   "source": [
    "# finally turn it into a dataframe\n",
    "analysts = pd.DataFrame(disagreement_list, columns = ['disagreement%','Symbol'])"
   ]
  },
  {
   "cell_type": "code",
   "execution_count": 8,
   "metadata": {
    "colab": {
     "base_uri": "https://localhost:8080/",
     "height": 373
    },
    "colab_type": "code",
    "id": "90kTogH4cXC3",
    "outputId": "7e5cd164-25c8-4511-c3ad-aecd64883588"
   },
   "outputs": [
    {
     "data": {
      "text/html": [
       "<div>\n",
       "<style scoped>\n",
       "    .dataframe tbody tr th:only-of-type {\n",
       "        vertical-align: middle;\n",
       "    }\n",
       "\n",
       "    .dataframe tbody tr th {\n",
       "        vertical-align: top;\n",
       "    }\n",
       "\n",
       "    .dataframe thead th {\n",
       "        text-align: right;\n",
       "    }\n",
       "</style>\n",
       "<table border=\"1\" class=\"dataframe\">\n",
       "  <thead>\n",
       "    <tr style=\"text-align: right;\">\n",
       "      <th></th>\n",
       "      <th>disagreement%</th>\n",
       "      <th>Symbol</th>\n",
       "    </tr>\n",
       "  </thead>\n",
       "  <tbody>\n",
       "    <tr>\n",
       "      <th>0</th>\n",
       "      <td>307.377049</td>\n",
       "      <td>TSLA</td>\n",
       "    </tr>\n",
       "    <tr>\n",
       "      <th>1</th>\n",
       "      <td>15.231788</td>\n",
       "      <td>MSFT</td>\n",
       "    </tr>\n",
       "    <tr>\n",
       "      <th>2</th>\n",
       "      <td>168.194842</td>\n",
       "      <td>AMZN</td>\n",
       "    </tr>\n",
       "    <tr>\n",
       "      <th>3</th>\n",
       "      <td>800.000000</td>\n",
       "      <td>GE</td>\n",
       "    </tr>\n",
       "    <tr>\n",
       "      <th>4</th>\n",
       "      <td>70.078740</td>\n",
       "      <td>MCD</td>\n",
       "    </tr>\n",
       "    <tr>\n",
       "      <th>5</th>\n",
       "      <td>44.042969</td>\n",
       "      <td>GOOG</td>\n",
       "    </tr>\n",
       "    <tr>\n",
       "      <th>6</th>\n",
       "      <td>40.123457</td>\n",
       "      <td>FB</td>\n",
       "    </tr>\n",
       "    <tr>\n",
       "      <th>7</th>\n",
       "      <td>37.246964</td>\n",
       "      <td>AAPL</td>\n",
       "    </tr>\n",
       "    <tr>\n",
       "      <th>8</th>\n",
       "      <td>21.301775</td>\n",
       "      <td>JNJ</td>\n",
       "    </tr>\n",
       "    <tr>\n",
       "      <th>9</th>\n",
       "      <td>23.188406</td>\n",
       "      <td>NFLX</td>\n",
       "    </tr>\n",
       "    <tr>\n",
       "      <th>10</th>\n",
       "      <td>35.294118</td>\n",
       "      <td>KO</td>\n",
       "    </tr>\n",
       "  </tbody>\n",
       "</table>\n",
       "</div>"
      ],
      "text/plain": [
       "    disagreement% Symbol\n",
       "0      307.377049   TSLA\n",
       "1       15.231788   MSFT\n",
       "2      168.194842   AMZN\n",
       "3      800.000000     GE\n",
       "4       70.078740    MCD\n",
       "5       44.042969   GOOG\n",
       "6       40.123457     FB\n",
       "7       37.246964   AAPL\n",
       "8       21.301775    JNJ\n",
       "9       23.188406   NFLX\n",
       "10      35.294118     KO"
      ]
     },
     "execution_count": 8,
     "metadata": {},
     "output_type": "execute_result"
    }
   ],
   "source": [
    "# et voilà!\n",
    "analysts"
   ]
  },
  {
   "cell_type": "code",
   "execution_count": 9,
   "metadata": {
    "colab": {},
    "colab_type": "code",
    "id": "cfo6HOp3cxvc"
   },
   "outputs": [],
   "source": [
    "# now we need to calculate the volatility for the same list of stocks\n",
    "\n",
    "# calculate volatility\n",
    "\n",
    "# we will have to make http requests to an API in python \n",
    "import requests\n",
    "\n",
    "\n",
    "# alpha vantage stock market API\n",
    "key = 'LD1TS7G1MUG3SD5Q'\n",
    "\n",
    "inputs = {\n",
    "  'function' : 'TIME_SERIES_DAILY',\n",
    " 'symbol' : 'TSLA',\n",
    " 'apikey' : key   \n",
    "\n",
    "}\n",
    "# we can either query the link directly.\n",
    "# https://www.alphavantage.co/query?function=TIME_SERIES_DAILY&symbol=MSFT&apikey=LD1TS7G1MUG3SD5Q"
   ]
  },
  {
   "cell_type": "markdown",
   "metadata": {
    "colab_type": "text",
    "id": "DWK_2nSc2yT4"
   },
   "source": []
  },
  {
   "cell_type": "code",
   "execution_count": 10,
   "metadata": {
    "colab": {},
    "colab_type": "code",
    "id": "eO6at2osjJNQ"
   },
   "outputs": [],
   "source": [
    "response = requests.get(\"https://www.alphavantage.co/query\",inputs)\n",
    "# in this line of code we are making the request for these given inputs to alphavantage\n"
   ]
  },
  {
   "cell_type": "code",
   "execution_count": 11,
   "metadata": {
    "colab": {},
    "colab_type": "code",
    "id": "DU6-5zGYjjXt"
   },
   "outputs": [
    {
     "data": {
      "text/html": [
       "<div>\n",
       "<style scoped>\n",
       "    .dataframe tbody tr th:only-of-type {\n",
       "        vertical-align: middle;\n",
       "    }\n",
       "\n",
       "    .dataframe tbody tr th {\n",
       "        vertical-align: top;\n",
       "    }\n",
       "\n",
       "    .dataframe thead th {\n",
       "        text-align: right;\n",
       "    }\n",
       "</style>\n",
       "<table border=\"1\" class=\"dataframe\">\n",
       "  <thead>\n",
       "    <tr style=\"text-align: right;\">\n",
       "      <th></th>\n",
       "      <th>Meta Data</th>\n",
       "      <th>Time Series (Daily)</th>\n",
       "    </tr>\n",
       "  </thead>\n",
       "  <tbody>\n",
       "    <tr>\n",
       "      <th>1. Information</th>\n",
       "      <td>Daily Prices (open, high, low, close) and Volumes</td>\n",
       "      <td>NaN</td>\n",
       "    </tr>\n",
       "    <tr>\n",
       "      <th>2. Symbol</th>\n",
       "      <td>TSLA</td>\n",
       "      <td>NaN</td>\n",
       "    </tr>\n",
       "    <tr>\n",
       "      <th>3. Last Refreshed</th>\n",
       "      <td>2020-07-14</td>\n",
       "      <td>NaN</td>\n",
       "    </tr>\n",
       "    <tr>\n",
       "      <th>4. Output Size</th>\n",
       "      <td>Compact</td>\n",
       "      <td>NaN</td>\n",
       "    </tr>\n",
       "    <tr>\n",
       "      <th>5. Time Zone</th>\n",
       "      <td>US/Eastern</td>\n",
       "      <td>NaN</td>\n",
       "    </tr>\n",
       "    <tr>\n",
       "      <th>...</th>\n",
       "      <td>...</td>\n",
       "      <td>...</td>\n",
       "    </tr>\n",
       "    <tr>\n",
       "      <th>2020-02-27</th>\n",
       "      <td>NaN</td>\n",
       "      <td>{'1. open': '730.0000', '2. high': '739.7700',...</td>\n",
       "    </tr>\n",
       "    <tr>\n",
       "      <th>2020-02-26</th>\n",
       "      <td>NaN</td>\n",
       "      <td>{'1. open': '782.5000', '2. high': '813.3100',...</td>\n",
       "    </tr>\n",
       "    <tr>\n",
       "      <th>2020-02-25</th>\n",
       "      <td>NaN</td>\n",
       "      <td>{'1. open': '849.0000', '2. high': '856.6000',...</td>\n",
       "    </tr>\n",
       "    <tr>\n",
       "      <th>2020-02-24</th>\n",
       "      <td>NaN</td>\n",
       "      <td>{'1. open': '839.0000', '2. high': '863.5000',...</td>\n",
       "    </tr>\n",
       "    <tr>\n",
       "      <th>2020-02-21</th>\n",
       "      <td>NaN</td>\n",
       "      <td>{'1. open': '906.9800', '2. high': '913.0600',...</td>\n",
       "    </tr>\n",
       "  </tbody>\n",
       "</table>\n",
       "<p>105 rows × 2 columns</p>\n",
       "</div>"
      ],
      "text/plain": [
       "                                                           Meta Data  \\\n",
       "1. Information     Daily Prices (open, high, low, close) and Volumes   \n",
       "2. Symbol                                                       TSLA   \n",
       "3. Last Refreshed                                         2020-07-14   \n",
       "4. Output Size                                               Compact   \n",
       "5. Time Zone                                              US/Eastern   \n",
       "...                                                              ...   \n",
       "2020-02-27                                                       NaN   \n",
       "2020-02-26                                                       NaN   \n",
       "2020-02-25                                                       NaN   \n",
       "2020-02-24                                                       NaN   \n",
       "2020-02-21                                                       NaN   \n",
       "\n",
       "                                                 Time Series (Daily)  \n",
       "1. Information                                                   NaN  \n",
       "2. Symbol                                                        NaN  \n",
       "3. Last Refreshed                                                NaN  \n",
       "4. Output Size                                                   NaN  \n",
       "5. Time Zone                                                     NaN  \n",
       "...                                                              ...  \n",
       "2020-02-27         {'1. open': '730.0000', '2. high': '739.7700',...  \n",
       "2020-02-26         {'1. open': '782.5000', '2. high': '813.3100',...  \n",
       "2020-02-25         {'1. open': '849.0000', '2. high': '856.6000',...  \n",
       "2020-02-24         {'1. open': '839.0000', '2. high': '863.5000',...  \n",
       "2020-02-21         {'1. open': '906.9800', '2. high': '913.0600',...  \n",
       "\n",
       "[105 rows x 2 columns]"
      ]
     },
     "execution_count": 11,
     "metadata": {},
     "output_type": "execute_result"
    }
   ],
   "source": [
    "# analysing the json response\n",
    "pd.DataFrame(response.json())"
   ]
  },
  {
   "cell_type": "code",
   "execution_count": 12,
   "metadata": {
    "colab": {},
    "colab_type": "code",
    "id": "AN5wS4kTjqNl"
   },
   "outputs": [
    {
     "data": {
      "text/html": [
       "<div>\n",
       "<style scoped>\n",
       "    .dataframe tbody tr th:only-of-type {\n",
       "        vertical-align: middle;\n",
       "    }\n",
       "\n",
       "    .dataframe tbody tr th {\n",
       "        vertical-align: top;\n",
       "    }\n",
       "\n",
       "    .dataframe thead th {\n",
       "        text-align: right;\n",
       "    }\n",
       "</style>\n",
       "<table border=\"1\" class=\"dataframe\">\n",
       "  <thead>\n",
       "    <tr style=\"text-align: right;\">\n",
       "      <th></th>\n",
       "      <th>2020-07-14</th>\n",
       "      <th>2020-07-13</th>\n",
       "      <th>2020-07-10</th>\n",
       "      <th>2020-07-09</th>\n",
       "      <th>2020-07-08</th>\n",
       "      <th>2020-07-07</th>\n",
       "      <th>2020-07-06</th>\n",
       "      <th>2020-07-02</th>\n",
       "      <th>2020-07-01</th>\n",
       "      <th>2020-06-30</th>\n",
       "      <th>...</th>\n",
       "      <th>2020-03-05</th>\n",
       "      <th>2020-03-04</th>\n",
       "      <th>2020-03-03</th>\n",
       "      <th>2020-03-02</th>\n",
       "      <th>2020-02-28</th>\n",
       "      <th>2020-02-27</th>\n",
       "      <th>2020-02-26</th>\n",
       "      <th>2020-02-25</th>\n",
       "      <th>2020-02-24</th>\n",
       "      <th>2020-02-21</th>\n",
       "    </tr>\n",
       "  </thead>\n",
       "  <tbody>\n",
       "    <tr>\n",
       "      <th>1. open</th>\n",
       "      <td>1556.0000</td>\n",
       "      <td>1659.0000</td>\n",
       "      <td>1396.0000</td>\n",
       "      <td>1396.9900</td>\n",
       "      <td>1405.0000</td>\n",
       "      <td>1405.0100</td>\n",
       "      <td>1276.6900</td>\n",
       "      <td>1221.4800</td>\n",
       "      <td>1083.0000</td>\n",
       "      <td>1006.5000</td>\n",
       "      <td>...</td>\n",
       "      <td>723.7700</td>\n",
       "      <td>763.9603</td>\n",
       "      <td>805.0000</td>\n",
       "      <td>711.2600</td>\n",
       "      <td>629.7000</td>\n",
       "      <td>730.0000</td>\n",
       "      <td>782.5000</td>\n",
       "      <td>849.0000</td>\n",
       "      <td>839.0000</td>\n",
       "      <td>906.9800</td>\n",
       "    </tr>\n",
       "    <tr>\n",
       "      <th>2. high</th>\n",
       "      <td>1590.0000</td>\n",
       "      <td>1794.9900</td>\n",
       "      <td>1548.9200</td>\n",
       "      <td>1408.5600</td>\n",
       "      <td>1417.2600</td>\n",
       "      <td>1429.5000</td>\n",
       "      <td>1377.7900</td>\n",
       "      <td>1228.0000</td>\n",
       "      <td>1135.3300</td>\n",
       "      <td>1087.6900</td>\n",
       "      <td>...</td>\n",
       "      <td>745.7500</td>\n",
       "      <td>766.5200</td>\n",
       "      <td>806.9800</td>\n",
       "      <td>743.6900</td>\n",
       "      <td>690.5200</td>\n",
       "      <td>739.7700</td>\n",
       "      <td>813.3100</td>\n",
       "      <td>856.6000</td>\n",
       "      <td>863.5000</td>\n",
       "      <td>913.0600</td>\n",
       "    </tr>\n",
       "    <tr>\n",
       "      <th>3. low</th>\n",
       "      <td>1431.0000</td>\n",
       "      <td>1471.1100</td>\n",
       "      <td>1376.0100</td>\n",
       "      <td>1351.2800</td>\n",
       "      <td>1311.3400</td>\n",
       "      <td>1336.7100</td>\n",
       "      <td>1266.0400</td>\n",
       "      <td>1185.6000</td>\n",
       "      <td>1080.5000</td>\n",
       "      <td>1003.7300</td>\n",
       "      <td>...</td>\n",
       "      <td>718.0700</td>\n",
       "      <td>724.7345</td>\n",
       "      <td>716.1106</td>\n",
       "      <td>686.6700</td>\n",
       "      <td>611.5200</td>\n",
       "      <td>669.0000</td>\n",
       "      <td>776.1100</td>\n",
       "      <td>787.0000</td>\n",
       "      <td>822.2000</td>\n",
       "      <td>880.4500</td>\n",
       "    </tr>\n",
       "    <tr>\n",
       "      <th>4. close</th>\n",
       "      <td>1516.8000</td>\n",
       "      <td>1497.0600</td>\n",
       "      <td>1544.6500</td>\n",
       "      <td>1394.2800</td>\n",
       "      <td>1365.8800</td>\n",
       "      <td>1389.8600</td>\n",
       "      <td>1371.5800</td>\n",
       "      <td>1208.6600</td>\n",
       "      <td>1119.6300</td>\n",
       "      <td>1079.8100</td>\n",
       "      <td>...</td>\n",
       "      <td>724.5400</td>\n",
       "      <td>749.5000</td>\n",
       "      <td>745.5100</td>\n",
       "      <td>743.6200</td>\n",
       "      <td>667.9900</td>\n",
       "      <td>679.0000</td>\n",
       "      <td>778.8000</td>\n",
       "      <td>799.9100</td>\n",
       "      <td>833.7900</td>\n",
       "      <td>901.0000</td>\n",
       "    </tr>\n",
       "    <tr>\n",
       "      <th>5. volume</th>\n",
       "      <td>22919100</td>\n",
       "      <td>39003200</td>\n",
       "      <td>23346400</td>\n",
       "      <td>11718300</td>\n",
       "      <td>16330200</td>\n",
       "      <td>21493300</td>\n",
       "      <td>20570300</td>\n",
       "      <td>17250100</td>\n",
       "      <td>13326900</td>\n",
       "      <td>16918500</td>\n",
       "      <td>...</td>\n",
       "      <td>10852657</td>\n",
       "      <td>15048977</td>\n",
       "      <td>25784003</td>\n",
       "      <td>20194991</td>\n",
       "      <td>24564171</td>\n",
       "      <td>24277160</td>\n",
       "      <td>14153843</td>\n",
       "      <td>17290481</td>\n",
       "      <td>15192163</td>\n",
       "      <td>14339446</td>\n",
       "    </tr>\n",
       "  </tbody>\n",
       "</table>\n",
       "<p>5 rows × 100 columns</p>\n",
       "</div>"
      ],
      "text/plain": [
       "          2020-07-14 2020-07-13 2020-07-10 2020-07-09 2020-07-08 2020-07-07  \\\n",
       "1. open    1556.0000  1659.0000  1396.0000  1396.9900  1405.0000  1405.0100   \n",
       "2. high    1590.0000  1794.9900  1548.9200  1408.5600  1417.2600  1429.5000   \n",
       "3. low     1431.0000  1471.1100  1376.0100  1351.2800  1311.3400  1336.7100   \n",
       "4. close   1516.8000  1497.0600  1544.6500  1394.2800  1365.8800  1389.8600   \n",
       "5. volume   22919100   39003200   23346400   11718300   16330200   21493300   \n",
       "\n",
       "          2020-07-06 2020-07-02 2020-07-01 2020-06-30  ... 2020-03-05  \\\n",
       "1. open    1276.6900  1221.4800  1083.0000  1006.5000  ...   723.7700   \n",
       "2. high    1377.7900  1228.0000  1135.3300  1087.6900  ...   745.7500   \n",
       "3. low     1266.0400  1185.6000  1080.5000  1003.7300  ...   718.0700   \n",
       "4. close   1371.5800  1208.6600  1119.6300  1079.8100  ...   724.5400   \n",
       "5. volume   20570300   17250100   13326900   16918500  ...   10852657   \n",
       "\n",
       "          2020-03-04 2020-03-03 2020-03-02 2020-02-28 2020-02-27 2020-02-26  \\\n",
       "1. open     763.9603   805.0000   711.2600   629.7000   730.0000   782.5000   \n",
       "2. high     766.5200   806.9800   743.6900   690.5200   739.7700   813.3100   \n",
       "3. low      724.7345   716.1106   686.6700   611.5200   669.0000   776.1100   \n",
       "4. close    749.5000   745.5100   743.6200   667.9900   679.0000   778.8000   \n",
       "5. volume   15048977   25784003   20194991   24564171   24277160   14153843   \n",
       "\n",
       "          2020-02-25 2020-02-24 2020-02-21  \n",
       "1. open     849.0000   839.0000   906.9800  \n",
       "2. high     856.6000   863.5000   913.0600  \n",
       "3. low      787.0000   822.2000   880.4500  \n",
       "4. close    799.9100   833.7900   901.0000  \n",
       "5. volume   17290481   15192163   14339446  \n",
       "\n",
       "[5 rows x 100 columns]"
      ]
     },
     "execution_count": 12,
     "metadata": {},
     "output_type": "execute_result"
    }
   ],
   "source": [
    "# hmmm looks like we want the second part of the dataframe\n",
    "\n",
    "pd.DataFrame(response.json()['Time Series (Daily)'])"
   ]
  },
  {
   "cell_type": "code",
   "execution_count": 28,
   "metadata": {
    "colab": {},
    "colab_type": "code",
    "id": "JUTUDAWgj99J"
   },
   "outputs": [
    {
     "data": {
      "text/html": [
       "<div>\n",
       "<style scoped>\n",
       "    .dataframe tbody tr th:only-of-type {\n",
       "        vertical-align: middle;\n",
       "    }\n",
       "\n",
       "    .dataframe tbody tr th {\n",
       "        vertical-align: top;\n",
       "    }\n",
       "\n",
       "    .dataframe thead th {\n",
       "        text-align: right;\n",
       "    }\n",
       "</style>\n",
       "<table border=\"1\" class=\"dataframe\">\n",
       "  <thead>\n",
       "    <tr style=\"text-align: right;\">\n",
       "      <th></th>\n",
       "      <th>1. open</th>\n",
       "      <th>2. high</th>\n",
       "      <th>3. low</th>\n",
       "      <th>4. close</th>\n",
       "      <th>5. volume</th>\n",
       "      <th>Symbol</th>\n",
       "    </tr>\n",
       "  </thead>\n",
       "  <tbody>\n",
       "    <tr>\n",
       "      <th>2020-07-14</th>\n",
       "      <td>260.9600</td>\n",
       "      <td>265.3300</td>\n",
       "      <td>240.4500</td>\n",
       "      <td>260.01</td>\n",
       "      <td>8655300</td>\n",
       "      <td>MSFT</td>\n",
       "    </tr>\n",
       "    <tr>\n",
       "      <th>2020-07-13</th>\n",
       "      <td>278.6300</td>\n",
       "      <td>281.0000</td>\n",
       "      <td>256.3400</td>\n",
       "      <td>260.30</td>\n",
       "      <td>9293000</td>\n",
       "      <td>MSFT</td>\n",
       "    </tr>\n",
       "    <tr>\n",
       "      <th>2020-07-10</th>\n",
       "      <td>271.7700</td>\n",
       "      <td>278.1600</td>\n",
       "      <td>268.6400</td>\n",
       "      <td>275.87</td>\n",
       "      <td>6355100</td>\n",
       "      <td>MSFT</td>\n",
       "    </tr>\n",
       "    <tr>\n",
       "      <th>2020-07-09</th>\n",
       "      <td>269.0100</td>\n",
       "      <td>272.7000</td>\n",
       "      <td>264.2200</td>\n",
       "      <td>269.52</td>\n",
       "      <td>5396100</td>\n",
       "      <td>MSFT</td>\n",
       "    </tr>\n",
       "    <tr>\n",
       "      <th>2020-07-08</th>\n",
       "      <td>263.8000</td>\n",
       "      <td>268.5300</td>\n",
       "      <td>261.2900</td>\n",
       "      <td>266.32</td>\n",
       "      <td>6013000</td>\n",
       "      <td>MSFT</td>\n",
       "    </tr>\n",
       "    <tr>\n",
       "      <th>...</th>\n",
       "      <td>...</td>\n",
       "      <td>...</td>\n",
       "      <td>...</td>\n",
       "      <td>...</td>\n",
       "      <td>...</td>\n",
       "      <td>...</td>\n",
       "    </tr>\n",
       "    <tr>\n",
       "      <th>2020-02-27</th>\n",
       "      <td>109.4300</td>\n",
       "      <td>118.0000</td>\n",
       "      <td>107.6000</td>\n",
       "      <td>113.55</td>\n",
       "      <td>13511847</td>\n",
       "      <td>MSFT</td>\n",
       "    </tr>\n",
       "    <tr>\n",
       "      <th>2020-02-26</th>\n",
       "      <td>109.9430</td>\n",
       "      <td>111.3000</td>\n",
       "      <td>105.6000</td>\n",
       "      <td>106.88</td>\n",
       "      <td>6885393</td>\n",
       "      <td>MSFT</td>\n",
       "    </tr>\n",
       "    <tr>\n",
       "      <th>2020-02-25</th>\n",
       "      <td>108.5200</td>\n",
       "      <td>111.8000</td>\n",
       "      <td>104.4664</td>\n",
       "      <td>107.08</td>\n",
       "      <td>13425942</td>\n",
       "      <td>MSFT</td>\n",
       "    </tr>\n",
       "    <tr>\n",
       "      <th>2020-02-24</th>\n",
       "      <td>97.8000</td>\n",
       "      <td>110.0000</td>\n",
       "      <td>97.0200</td>\n",
       "      <td>105.01</td>\n",
       "      <td>12172751</td>\n",
       "      <td>MSFT</td>\n",
       "    </tr>\n",
       "    <tr>\n",
       "      <th>2020-02-21</th>\n",
       "      <td>104.0300</td>\n",
       "      <td>104.2900</td>\n",
       "      <td>98.0900</td>\n",
       "      <td>101.76</td>\n",
       "      <td>5535908</td>\n",
       "      <td>MSFT</td>\n",
       "    </tr>\n",
       "  </tbody>\n",
       "</table>\n",
       "<p>100 rows × 6 columns</p>\n",
       "</div>"
      ],
      "text/plain": [
       "             1. open   2. high    3. low  4. close 5. volume Symbol\n",
       "2020-07-14  260.9600  265.3300  240.4500    260.01   8655300   MSFT\n",
       "2020-07-13  278.6300  281.0000  256.3400    260.30   9293000   MSFT\n",
       "2020-07-10  271.7700  278.1600  268.6400    275.87   6355100   MSFT\n",
       "2020-07-09  269.0100  272.7000  264.2200    269.52   5396100   MSFT\n",
       "2020-07-08  263.8000  268.5300  261.2900    266.32   6013000   MSFT\n",
       "...              ...       ...       ...       ...       ...    ...\n",
       "2020-02-27  109.4300  118.0000  107.6000    113.55  13511847   MSFT\n",
       "2020-02-26  109.9430  111.3000  105.6000    106.88   6885393   MSFT\n",
       "2020-02-25  108.5200  111.8000  104.4664    107.08  13425942   MSFT\n",
       "2020-02-24   97.8000  110.0000   97.0200    105.01  12172751   MSFT\n",
       "2020-02-21  104.0300  104.2900   98.0900    101.76   5535908   MSFT\n",
       "\n",
       "[100 rows x 6 columns]"
      ]
     },
     "execution_count": 28,
     "metadata": {},
     "output_type": "execute_result"
    }
   ],
   "source": [
    "# this is almost great, but we need to pivot the data\n",
    "\n",
    "data = pd.DataFrame(response.json()['Time Series (Daily)']).T\n",
    "data['Symbol'] = 'MSFT'\n",
    "\n",
    "data['4. close'] = pd.to_numeric(data['4. close'])\n",
    "\n",
    "data"
   ]
  },
  {
   "cell_type": "code",
   "execution_count": 14,
   "metadata": {
    "colab": {},
    "colab_type": "code",
    "id": "cQYm_JfJkNsz"
   },
   "outputs": [],
   "source": [
    "# calculating volatility\n",
    "\n",
    "# we start by calculating the daily returns\n",
    "data['returns'] = (data['4. close']-data['4. close'].shift(-1))/data['4. close'].shift(-1)"
   ]
  },
  {
   "cell_type": "code",
   "execution_count": 15,
   "metadata": {
    "colab": {},
    "colab_type": "code",
    "id": "dVYYLkhKkCo7"
   },
   "outputs": [
    {
     "data": {
      "image/png": "[encoded data removed]",
      "text/plain": [
       "<Figure size 432x288 with 1 Axes>"
      ]
     },
     "metadata": {
      "needs_background": "light"
     },
     "output_type": "display_data"
    }
   ],
   "source": [
    "import matplotlib.pyplot as plt\n",
    "\n",
    "data.head()\n",
    "\n",
    "# distribution of returns of MSFT stock\n",
    "data.hist('returns')\n",
    "plt.show()"
   ]
  },
  {
   "cell_type": "code",
   "execution_count": 16,
   "metadata": {
    "colab": {
     "base_uri": "https://localhost:8080/",
     "height": 195
    },
    "colab_type": "code",
    "id": "dtkxKDaMmmUu",
    "outputId": "fa3b0fd6-6d3f-4d39-8383-c016286fa2ad"
   },
   "outputs": [
    {
     "data": {
      "text/html": [
       "<div>\n",
       "<style scoped>\n",
       "    .dataframe tbody tr th:only-of-type {\n",
       "        vertical-align: middle;\n",
       "    }\n",
       "\n",
       "    .dataframe tbody tr th {\n",
       "        vertical-align: top;\n",
       "    }\n",
       "\n",
       "    .dataframe thead th {\n",
       "        text-align: right;\n",
       "    }\n",
       "</style>\n",
       "<table border=\"1\" class=\"dataframe\">\n",
       "  <thead>\n",
       "    <tr style=\"text-align: right;\">\n",
       "      <th></th>\n",
       "      <th>1. open</th>\n",
       "      <th>2. high</th>\n",
       "      <th>3. low</th>\n",
       "      <th>4. close</th>\n",
       "      <th>5. volume</th>\n",
       "      <th>Symbol</th>\n",
       "      <th>returns</th>\n",
       "      <th>volatility</th>\n",
       "      <th>median</th>\n",
       "    </tr>\n",
       "  </thead>\n",
       "  <tbody>\n",
       "    <tr>\n",
       "      <th>2020-07-14</th>\n",
       "      <td>1556.0000</td>\n",
       "      <td>1590.0000</td>\n",
       "      <td>1431.0000</td>\n",
       "      <td>1516.80</td>\n",
       "      <td>22919100</td>\n",
       "      <td>MSFT</td>\n",
       "      <td>0.013186</td>\n",
       "      <td>0.729531</td>\n",
       "      <td>0.795504</td>\n",
       "    </tr>\n",
       "    <tr>\n",
       "      <th>2020-07-13</th>\n",
       "      <td>1659.0000</td>\n",
       "      <td>1794.9900</td>\n",
       "      <td>1471.1100</td>\n",
       "      <td>1497.06</td>\n",
       "      <td>39003200</td>\n",
       "      <td>MSFT</td>\n",
       "      <td>-0.030810</td>\n",
       "      <td>0.740049</td>\n",
       "      <td>0.795504</td>\n",
       "    </tr>\n",
       "    <tr>\n",
       "      <th>2020-07-10</th>\n",
       "      <td>1396.0000</td>\n",
       "      <td>1548.9200</td>\n",
       "      <td>1376.0100</td>\n",
       "      <td>1544.65</td>\n",
       "      <td>23346400</td>\n",
       "      <td>MSFT</td>\n",
       "      <td>0.107848</td>\n",
       "      <td>0.748227</td>\n",
       "      <td>0.795504</td>\n",
       "    </tr>\n",
       "    <tr>\n",
       "      <th>2020-07-09</th>\n",
       "      <td>1396.9900</td>\n",
       "      <td>1408.5600</td>\n",
       "      <td>1351.2800</td>\n",
       "      <td>1394.28</td>\n",
       "      <td>11718300</td>\n",
       "      <td>MSFT</td>\n",
       "      <td>0.020792</td>\n",
       "      <td>0.725481</td>\n",
       "      <td>0.795504</td>\n",
       "    </tr>\n",
       "    <tr>\n",
       "      <th>2020-07-08</th>\n",
       "      <td>1405.0000</td>\n",
       "      <td>1417.2600</td>\n",
       "      <td>1311.3400</td>\n",
       "      <td>1365.88</td>\n",
       "      <td>16330200</td>\n",
       "      <td>MSFT</td>\n",
       "      <td>-0.017254</td>\n",
       "      <td>0.770407</td>\n",
       "      <td>0.795504</td>\n",
       "    </tr>\n",
       "  </tbody>\n",
       "</table>\n",
       "</div>"
      ],
      "text/plain": [
       "              1. open    2. high     3. low  4. close 5. volume Symbol  \\\n",
       "2020-07-14  1556.0000  1590.0000  1431.0000   1516.80  22919100   MSFT   \n",
       "2020-07-13  1659.0000  1794.9900  1471.1100   1497.06  39003200   MSFT   \n",
       "2020-07-10  1396.0000  1548.9200  1376.0100   1544.65  23346400   MSFT   \n",
       "2020-07-09  1396.9900  1408.5600  1351.2800   1394.28  11718300   MSFT   \n",
       "2020-07-08  1405.0000  1417.2600  1311.3400   1365.88  16330200   MSFT   \n",
       "\n",
       "             returns  volatility    median  \n",
       "2020-07-14  0.013186    0.729531  0.795504  \n",
       "2020-07-13 -0.030810    0.740049  0.795504  \n",
       "2020-07-10  0.107848    0.748227  0.795504  \n",
       "2020-07-09  0.020792    0.725481  0.795504  \n",
       "2020-07-08 -0.017254    0.770407  0.795504  "
      ]
     },
     "execution_count": 16,
     "metadata": {},
     "output_type": "execute_result"
    }
   ],
   "source": [
    "# how do we calculate volatility?\n",
    "data = data.iloc[::-1]\n",
    "# rolling window calculates standard deviation of past 20 days\n",
    "data['volatility'] = data['returns'].rolling(20).std()*np.sqrt(250)\n",
    "data = data.iloc[::-1]\n",
    "\n",
    "# calculate median to compare if current vol is high or low historically\n",
    "data['median'] = data['volatility'].agg(np.median)\n",
    "\n",
    "data.head()"
   ]
  },
  {
   "cell_type": "code",
   "execution_count": 17,
   "metadata": {
    "colab": {
     "base_uri": "https://localhost:8080/",
     "height": 265
    },
    "colab_type": "code",
    "id": "hzm3kJ52ptMW",
    "outputId": "caa21da2-6618-4193-a73f-991f9ed4aae5"
   },
   "outputs": [
    {
     "data": {
      "image/png": "[encoded data removed]",
      "text/plain": [
       "<Figure size 432x288 with 2 Axes>"
      ]
     },
     "metadata": {
      "needs_background": "light"
     },
     "output_type": "display_data"
    }
   ],
   "source": [
    "\n",
    "plt.plot(data.index,data['4. close'])\n",
    "ax = data['volatility'].plot(secondary_y=True, color='orange', marker='o')\n",
    "plt.show()"
   ]
  },
  {
   "cell_type": "code",
   "execution_count": 18,
   "metadata": {
    "colab": {
     "base_uri": "https://localhost:8080/",
     "height": 218
    },
    "colab_type": "code",
    "id": "xGDYmWuBlB9X",
    "outputId": "e39ea464-c915-4cbf-a224-509206f5c389"
   },
   "outputs": [
    {
     "name": "stdout",
     "output_type": "stream",
     "text": [
      "TSLA\n",
      "MSFT\n",
      "AMZN\n",
      "GE\n",
      "MCD\n",
      "GOOG\n",
      "FB\n",
      "AAPL\n",
      "JNJ\n",
      "NFLX\n",
      "DIS\n",
      "KO\n"
     ]
    }
   ],
   "source": [
    "# now we repeat this entire process for the same list of stocks -> power of automation of a process\n",
    "stock_list = stock_list = ['TSLA','MSFT','AMZN','GE','MCD','GOOG','FB','AAPL','JNJ','NFLX','DIS','KO']\n",
    "import time\n",
    "#all restuls will end up in here\n",
    "data_list = []\n",
    "\n",
    "key = 'P0GDBRI5P9EOK0PW'\n",
    "for stock in stock_list:\n",
    "  print(stock)\n",
    "  time.sleep(1)\n",
    "  inputs = {'function' : 'TIME_SERIES_DAILY','symbol' : stock,'apikey' : key}\n",
    "  response = requests.get(\"https://www.alphavantage.co/query\",inputs)\n",
    "  try:\n",
    "    data = pd.DataFrame(response.json()['Time Series (Daily)']).T\n",
    "    data['Symbol'] = stock\n",
    "    data['4. close'] = pd.to_numeric(data['4. close'])\n",
    "    data['returns'] = 100*(data['4. close']-data['4. close'].shift(-1))/data['4. close'].shift(-1)\n",
    "    data = data.iloc[::-1]\n",
    "    data['volatility'] = data['returns'].rolling(20).std()*np.sqrt(250)\n",
    "    data['vol_median'] = data['volatility'].agg(np.median)\n",
    "    data = data.iloc[::-1]\n",
    "    data_list.append(data)\n",
    "  except:\n",
    "    continue\n",
    "\n",
    "stocks = pd.concat(data_list)"
   ]
  },
  {
   "cell_type": "code",
   "execution_count": 19,
   "metadata": {
    "colab": {
     "base_uri": "https://localhost:8080/",
     "height": 1000
    },
    "colab_type": "code",
    "id": "7DFs6Xe8mZc_",
    "outputId": "541bf2ab-b76c-4e1b-f00e-43d71b5698eb"
   },
   "outputs": [
    {
     "data": {
      "image/png": "[encoded data removed]",
      "text/plain": [
       "<Figure size 432x288 with 1 Axes>"
      ]
     },
     "metadata": {
      "needs_background": "light"
     },
     "output_type": "display_data"
    },
    {
     "data": {
      "image/png": "[encoded data removed]",
      "text/plain": [
       "<Figure size 432x288 with 1 Axes>"
      ]
     },
     "metadata": {
      "needs_background": "light"
     },
     "output_type": "display_data"
    },
    {
     "data": {
      "image/png": "[encoded data removed]",
      "text/plain": [
       "<Figure size 432x288 with 1 Axes>"
      ]
     },
     "metadata": {
      "needs_background": "light"
     },
     "output_type": "display_data"
    },
    {
     "data": {
      "image/png": "[encoded data removed]",
      "text/plain": [
       "<Figure size 432x288 with 1 Axes>"
      ]
     },
     "metadata": {
      "needs_background": "light"
     },
     "output_type": "display_data"
    },
    {
     "data": {
      "image/png": "[encoded data removed]",
      "text/plain": [
       "<Figure size 432x288 with 1 Axes>"
      ]
     },
     "metadata": {
      "needs_background": "light"
     },
     "output_type": "display_data"
    },
    {
     "data": {
      "image/png": "[encoded data removed]",
      "text/plain": [
       "<Figure size 432x288 with 1 Axes>"
      ]
     },
     "metadata": {
      "needs_background": "light"
     },
     "output_type": "display_data"
    },
    {
     "data": {
      "image/png": "[encoded data removed]",
      "text/plain": [
       "<Figure size 432x288 with 1 Axes>"
      ]
     },
     "metadata": {
      "needs_background": "light"
     },
     "output_type": "display_data"
    },
    {
     "data": {
      "image/png": "[encoded data removed]",
      "text/plain": [
       "<Figure size 432x288 with 1 Axes>"
      ]
     },
     "metadata": {
      "needs_background": "light"
     },
     "output_type": "display_data"
    },
    {
     "data": {
      "image/png": "[encoded data removed]",
      "text/plain": [
       "<Figure size 432x288 with 1 Axes>"
      ]
     },
     "metadata": {
      "needs_background": "light"
     },
     "output_type": "display_data"
    },
    {
     "data": {
      "image/png": "[encoded data removed]",
      "text/plain": [
       "<Figure size 432x288 with 1 Axes>"
      ]
     },
     "metadata": {
      "needs_background": "light"
     },
     "output_type": "display_data"
    },
    {
     "data": {
      "image/png": "[encoded data removed]",
      "text/plain": [
       "<Figure size 432x288 with 1 Axes>"
      ]
     },
     "metadata": {
      "needs_background": "light"
     },
     "output_type": "display_data"
    },
    {
     "data": {
      "image/png": "[encoded data removed]",
      "text/plain": [
       "<Figure size 432x288 with 1 Axes>"
      ]
     },
     "metadata": {
      "needs_background": "light"
     },
     "output_type": "display_data"
    }
   ],
   "source": [
    "import matplotlib.pyplot as plt\n",
    "\n",
    "for df in data_list:\n",
    "  df.hist('returns')\n",
    "  title = \"returns for \" +  df['Symbol'].any()\n",
    "  plt.title(title)\n",
    "plt.show()"
   ]
  },
  {
   "cell_type": "code",
   "execution_count": 20,
   "metadata": {
    "colab": {},
    "colab_type": "code",
    "id": "CcXm-QCkGUxz"
   },
   "outputs": [],
   "source": [
    "latest_vol = []\n",
    "for df in data_list:\n",
    "  latest_vol.append(df.groupby('Symbol').first())"
   ]
  },
  {
   "cell_type": "code",
   "execution_count": 21,
   "metadata": {
    "colab": {
     "base_uri": "https://localhost:8080/",
     "height": 432
    },
    "colab_type": "code",
    "id": "i0qMAWOUHLsJ",
    "outputId": "67f7a67c-6ecc-407e-94ad-443bef983319"
   },
   "outputs": [
    {
     "data": {
      "text/html": [
       "<div>\n",
       "<style scoped>\n",
       "    .dataframe tbody tr th:only-of-type {\n",
       "        vertical-align: middle;\n",
       "    }\n",
       "\n",
       "    .dataframe tbody tr th {\n",
       "        vertical-align: top;\n",
       "    }\n",
       "\n",
       "    .dataframe thead th {\n",
       "        text-align: right;\n",
       "    }\n",
       "</style>\n",
       "<table border=\"1\" class=\"dataframe\">\n",
       "  <thead>\n",
       "    <tr style=\"text-align: right;\">\n",
       "      <th></th>\n",
       "      <th>1. open</th>\n",
       "      <th>2. high</th>\n",
       "      <th>3. low</th>\n",
       "      <th>4. close</th>\n",
       "      <th>5. volume</th>\n",
       "      <th>returns</th>\n",
       "      <th>volatility</th>\n",
       "      <th>vol_median</th>\n",
       "    </tr>\n",
       "    <tr>\n",
       "      <th>Symbol</th>\n",
       "      <th></th>\n",
       "      <th></th>\n",
       "      <th></th>\n",
       "      <th></th>\n",
       "      <th></th>\n",
       "      <th></th>\n",
       "      <th></th>\n",
       "      <th></th>\n",
       "    </tr>\n",
       "  </thead>\n",
       "  <tbody>\n",
       "    <tr>\n",
       "      <th>TSLA</th>\n",
       "      <td>1556.0000</td>\n",
       "      <td>1590.0000</td>\n",
       "      <td>1431.0000</td>\n",
       "      <td>1516.80</td>\n",
       "      <td>22919100</td>\n",
       "      <td>1.318584</td>\n",
       "      <td>72.953096</td>\n",
       "      <td>79.550430</td>\n",
       "    </tr>\n",
       "    <tr>\n",
       "      <th>MSFT</th>\n",
       "      <td>206.1300</td>\n",
       "      <td>208.8500</td>\n",
       "      <td>202.0300</td>\n",
       "      <td>208.35</td>\n",
       "      <td>36629800</td>\n",
       "      <td>0.618148</td>\n",
       "      <td>25.734355</td>\n",
       "      <td>33.986507</td>\n",
       "    </tr>\n",
       "    <tr>\n",
       "      <th>AMZN</th>\n",
       "      <td>3089.0000</td>\n",
       "      <td>3127.3800</td>\n",
       "      <td>2950.0000</td>\n",
       "      <td>3084.00</td>\n",
       "      <td>7118100</td>\n",
       "      <td>-0.644330</td>\n",
       "      <td>34.775567</td>\n",
       "      <td>39.123384</td>\n",
       "    </tr>\n",
       "    <tr>\n",
       "      <th>GE</th>\n",
       "      <td>6.6600</td>\n",
       "      <td>6.8900</td>\n",
       "      <td>6.5700</td>\n",
       "      <td>6.88</td>\n",
       "      <td>69207000</td>\n",
       "      <td>2.686567</td>\n",
       "      <td>45.809785</td>\n",
       "      <td>76.332445</td>\n",
       "    </tr>\n",
       "    <tr>\n",
       "      <th>MCD</th>\n",
       "      <td>185.0900</td>\n",
       "      <td>190.8400</td>\n",
       "      <td>184.7300</td>\n",
       "      <td>190.72</td>\n",
       "      <td>4093200</td>\n",
       "      <td>3.136491</td>\n",
       "      <td>20.708952</td>\n",
       "      <td>32.038205</td>\n",
       "    </tr>\n",
       "    <tr>\n",
       "      <th>GOOG</th>\n",
       "      <td>1490.3100</td>\n",
       "      <td>1522.9500</td>\n",
       "      <td>1483.5000</td>\n",
       "      <td>1520.58</td>\n",
       "      <td>1550000</td>\n",
       "      <td>0.611378</td>\n",
       "      <td>30.618739</td>\n",
       "      <td>42.659298</td>\n",
       "    </tr>\n",
       "    <tr>\n",
       "      <th>FB</th>\n",
       "      <td>236.7600</td>\n",
       "      <td>240.3300</td>\n",
       "      <td>232.0300</td>\n",
       "      <td>239.73</td>\n",
       "      <td>23155700</td>\n",
       "      <td>0.305439</td>\n",
       "      <td>42.779360</td>\n",
       "      <td>44.632661</td>\n",
       "    </tr>\n",
       "    <tr>\n",
       "      <th>AAPL</th>\n",
       "      <td>379.3600</td>\n",
       "      <td>389.0200</td>\n",
       "      <td>375.5100</td>\n",
       "      <td>388.23</td>\n",
       "      <td>41551000</td>\n",
       "      <td>1.654840</td>\n",
       "      <td>24.858007</td>\n",
       "      <td>32.730619</td>\n",
       "    </tr>\n",
       "    <tr>\n",
       "      <th>JNJ</th>\n",
       "      <td>145.3200</td>\n",
       "      <td>148.3900</td>\n",
       "      <td>145.2600</td>\n",
       "      <td>147.92</td>\n",
       "      <td>6776000</td>\n",
       "      <td>1.866263</td>\n",
       "      <td>17.453294</td>\n",
       "      <td>23.237841</td>\n",
       "    </tr>\n",
       "    <tr>\n",
       "      <th>NFLX</th>\n",
       "      <td>517.0800</td>\n",
       "      <td>525.5000</td>\n",
       "      <td>490.4900</td>\n",
       "      <td>524.88</td>\n",
       "      <td>14965300</td>\n",
       "      <td>-0.117983</td>\n",
       "      <td>49.017604</td>\n",
       "      <td>40.435159</td>\n",
       "    </tr>\n",
       "    <tr>\n",
       "      <th>DIS</th>\n",
       "      <td>115.2300</td>\n",
       "      <td>119.0800</td>\n",
       "      <td>114.5400</td>\n",
       "      <td>118.66</td>\n",
       "      <td>10695600</td>\n",
       "      <td>2.099467</td>\n",
       "      <td>30.385601</td>\n",
       "      <td>48.428475</td>\n",
       "    </tr>\n",
       "    <tr>\n",
       "      <th>KO</th>\n",
       "      <td>44.9100</td>\n",
       "      <td>45.9400</td>\n",
       "      <td>44.6700</td>\n",
       "      <td>45.87</td>\n",
       "      <td>16982200</td>\n",
       "      <td>1.370166</td>\n",
       "      <td>23.519241</td>\n",
       "      <td>32.863604</td>\n",
       "    </tr>\n",
       "  </tbody>\n",
       "</table>\n",
       "</div>"
      ],
      "text/plain": [
       "          1. open    2. high     3. low  4. close 5. volume   returns  \\\n",
       "Symbol                                                                  \n",
       "TSLA    1556.0000  1590.0000  1431.0000   1516.80  22919100  1.318584   \n",
       "MSFT     206.1300   208.8500   202.0300    208.35  36629800  0.618148   \n",
       "AMZN    3089.0000  3127.3800  2950.0000   3084.00   7118100 -0.644330   \n",
       "GE         6.6600     6.8900     6.5700      6.88  69207000  2.686567   \n",
       "MCD      185.0900   190.8400   184.7300    190.72   4093200  3.136491   \n",
       "GOOG    1490.3100  1522.9500  1483.5000   1520.58   1550000  0.611378   \n",
       "FB       236.7600   240.3300   232.0300    239.73  23155700  0.305439   \n",
       "AAPL     379.3600   389.0200   375.5100    388.23  41551000  1.654840   \n",
       "JNJ      145.3200   148.3900   145.2600    147.92   6776000  1.866263   \n",
       "NFLX     517.0800   525.5000   490.4900    524.88  14965300 -0.117983   \n",
       "DIS      115.2300   119.0800   114.5400    118.66  10695600  2.099467   \n",
       "KO        44.9100    45.9400    44.6700     45.87  16982200  1.370166   \n",
       "\n",
       "        volatility  vol_median  \n",
       "Symbol                          \n",
       "TSLA     72.953096   79.550430  \n",
       "MSFT     25.734355   33.986507  \n",
       "AMZN     34.775567   39.123384  \n",
       "GE       45.809785   76.332445  \n",
       "MCD      20.708952   32.038205  \n",
       "GOOG     30.618739   42.659298  \n",
       "FB       42.779360   44.632661  \n",
       "AAPL     24.858007   32.730619  \n",
       "JNJ      17.453294   23.237841  \n",
       "NFLX     49.017604   40.435159  \n",
       "DIS      30.385601   48.428475  \n",
       "KO       23.519241   32.863604  "
      ]
     },
     "execution_count": 21,
     "metadata": {},
     "output_type": "execute_result"
    }
   ],
   "source": [
    "vols = pd.concat(latest_vol)\n",
    "vols"
   ]
  },
  {
   "cell_type": "code",
   "execution_count": 22,
   "metadata": {
    "colab": {
     "base_uri": "https://localhost:8080/",
     "height": 373
    },
    "colab_type": "code",
    "id": "QvJLtav9JIPx",
    "outputId": "ca8cec1b-0593-4ea8-f325-290cc8250c66"
   },
   "outputs": [
    {
     "data": {
      "text/html": [
       "<div>\n",
       "<style scoped>\n",
       "    .dataframe tbody tr th:only-of-type {\n",
       "        vertical-align: middle;\n",
       "    }\n",
       "\n",
       "    .dataframe tbody tr th {\n",
       "        vertical-align: top;\n",
       "    }\n",
       "\n",
       "    .dataframe thead th {\n",
       "        text-align: right;\n",
       "    }\n",
       "</style>\n",
       "<table border=\"1\" class=\"dataframe\">\n",
       "  <thead>\n",
       "    <tr style=\"text-align: right;\">\n",
       "      <th></th>\n",
       "      <th>disagreement%</th>\n",
       "      <th>Symbol</th>\n",
       "      <th>1. open</th>\n",
       "      <th>2. high</th>\n",
       "      <th>3. low</th>\n",
       "      <th>4. close</th>\n",
       "      <th>5. volume</th>\n",
       "      <th>returns</th>\n",
       "      <th>volatility</th>\n",
       "      <th>vol_median</th>\n",
       "    </tr>\n",
       "  </thead>\n",
       "  <tbody>\n",
       "    <tr>\n",
       "      <th>3</th>\n",
       "      <td>800.000000</td>\n",
       "      <td>GE</td>\n",
       "      <td>6.6600</td>\n",
       "      <td>6.8900</td>\n",
       "      <td>6.5700</td>\n",
       "      <td>6.88</td>\n",
       "      <td>69207000</td>\n",
       "      <td>2.686567</td>\n",
       "      <td>45.809785</td>\n",
       "      <td>76.332445</td>\n",
       "    </tr>\n",
       "    <tr>\n",
       "      <th>0</th>\n",
       "      <td>307.377049</td>\n",
       "      <td>TSLA</td>\n",
       "      <td>1556.0000</td>\n",
       "      <td>1590.0000</td>\n",
       "      <td>1431.0000</td>\n",
       "      <td>1516.80</td>\n",
       "      <td>22919100</td>\n",
       "      <td>1.318584</td>\n",
       "      <td>72.953096</td>\n",
       "      <td>79.550430</td>\n",
       "    </tr>\n",
       "    <tr>\n",
       "      <th>2</th>\n",
       "      <td>168.194842</td>\n",
       "      <td>AMZN</td>\n",
       "      <td>3089.0000</td>\n",
       "      <td>3127.3800</td>\n",
       "      <td>2950.0000</td>\n",
       "      <td>3084.00</td>\n",
       "      <td>7118100</td>\n",
       "      <td>-0.644330</td>\n",
       "      <td>34.775567</td>\n",
       "      <td>39.123384</td>\n",
       "    </tr>\n",
       "    <tr>\n",
       "      <th>4</th>\n",
       "      <td>70.078740</td>\n",
       "      <td>MCD</td>\n",
       "      <td>185.0900</td>\n",
       "      <td>190.8400</td>\n",
       "      <td>184.7300</td>\n",
       "      <td>190.72</td>\n",
       "      <td>4093200</td>\n",
       "      <td>3.136491</td>\n",
       "      <td>20.708952</td>\n",
       "      <td>32.038205</td>\n",
       "    </tr>\n",
       "    <tr>\n",
       "      <th>5</th>\n",
       "      <td>44.042969</td>\n",
       "      <td>GOOG</td>\n",
       "      <td>1490.3100</td>\n",
       "      <td>1522.9500</td>\n",
       "      <td>1483.5000</td>\n",
       "      <td>1520.58</td>\n",
       "      <td>1550000</td>\n",
       "      <td>0.611378</td>\n",
       "      <td>30.618739</td>\n",
       "      <td>42.659298</td>\n",
       "    </tr>\n",
       "    <tr>\n",
       "      <th>6</th>\n",
       "      <td>40.123457</td>\n",
       "      <td>FB</td>\n",
       "      <td>236.7600</td>\n",
       "      <td>240.3300</td>\n",
       "      <td>232.0300</td>\n",
       "      <td>239.73</td>\n",
       "      <td>23155700</td>\n",
       "      <td>0.305439</td>\n",
       "      <td>42.779360</td>\n",
       "      <td>44.632661</td>\n",
       "    </tr>\n",
       "    <tr>\n",
       "      <th>7</th>\n",
       "      <td>37.246964</td>\n",
       "      <td>AAPL</td>\n",
       "      <td>379.3600</td>\n",
       "      <td>389.0200</td>\n",
       "      <td>375.5100</td>\n",
       "      <td>388.23</td>\n",
       "      <td>41551000</td>\n",
       "      <td>1.654840</td>\n",
       "      <td>24.858007</td>\n",
       "      <td>32.730619</td>\n",
       "    </tr>\n",
       "    <tr>\n",
       "      <th>10</th>\n",
       "      <td>35.294118</td>\n",
       "      <td>KO</td>\n",
       "      <td>44.9100</td>\n",
       "      <td>45.9400</td>\n",
       "      <td>44.6700</td>\n",
       "      <td>45.87</td>\n",
       "      <td>16982200</td>\n",
       "      <td>1.370166</td>\n",
       "      <td>23.519241</td>\n",
       "      <td>32.863604</td>\n",
       "    </tr>\n",
       "    <tr>\n",
       "      <th>9</th>\n",
       "      <td>23.188406</td>\n",
       "      <td>NFLX</td>\n",
       "      <td>517.0800</td>\n",
       "      <td>525.5000</td>\n",
       "      <td>490.4900</td>\n",
       "      <td>524.88</td>\n",
       "      <td>14965300</td>\n",
       "      <td>-0.117983</td>\n",
       "      <td>49.017604</td>\n",
       "      <td>40.435159</td>\n",
       "    </tr>\n",
       "    <tr>\n",
       "      <th>8</th>\n",
       "      <td>21.301775</td>\n",
       "      <td>JNJ</td>\n",
       "      <td>145.3200</td>\n",
       "      <td>148.3900</td>\n",
       "      <td>145.2600</td>\n",
       "      <td>147.92</td>\n",
       "      <td>6776000</td>\n",
       "      <td>1.866263</td>\n",
       "      <td>17.453294</td>\n",
       "      <td>23.237841</td>\n",
       "    </tr>\n",
       "    <tr>\n",
       "      <th>1</th>\n",
       "      <td>15.231788</td>\n",
       "      <td>MSFT</td>\n",
       "      <td>206.1300</td>\n",
       "      <td>208.8500</td>\n",
       "      <td>202.0300</td>\n",
       "      <td>208.35</td>\n",
       "      <td>36629800</td>\n",
       "      <td>0.618148</td>\n",
       "      <td>25.734355</td>\n",
       "      <td>33.986507</td>\n",
       "    </tr>\n",
       "  </tbody>\n",
       "</table>\n",
       "</div>"
      ],
      "text/plain": [
       "    disagreement% Symbol    1. open    2. high     3. low  4. close 5. volume  \\\n",
       "3      800.000000     GE     6.6600     6.8900     6.5700      6.88  69207000   \n",
       "0      307.377049   TSLA  1556.0000  1590.0000  1431.0000   1516.80  22919100   \n",
       "2      168.194842   AMZN  3089.0000  3127.3800  2950.0000   3084.00   7118100   \n",
       "4       70.078740    MCD   185.0900   190.8400   184.7300    190.72   4093200   \n",
       "5       44.042969   GOOG  1490.3100  1522.9500  1483.5000   1520.58   1550000   \n",
       "6       40.123457     FB   236.7600   240.3300   232.0300    239.73  23155700   \n",
       "7       37.246964   AAPL   379.3600   389.0200   375.5100    388.23  41551000   \n",
       "10      35.294118     KO    44.9100    45.9400    44.6700     45.87  16982200   \n",
       "9       23.188406   NFLX   517.0800   525.5000   490.4900    524.88  14965300   \n",
       "8       21.301775    JNJ   145.3200   148.3900   145.2600    147.92   6776000   \n",
       "1       15.231788   MSFT   206.1300   208.8500   202.0300    208.35  36629800   \n",
       "\n",
       "     returns  volatility  vol_median  \n",
       "3   2.686567   45.809785   76.332445  \n",
       "0   1.318584   72.953096   79.550430  \n",
       "2  -0.644330   34.775567   39.123384  \n",
       "4   3.136491   20.708952   32.038205  \n",
       "5   0.611378   30.618739   42.659298  \n",
       "6   0.305439   42.779360   44.632661  \n",
       "7   1.654840   24.858007   32.730619  \n",
       "10  1.370166   23.519241   32.863604  \n",
       "9  -0.117983   49.017604   40.435159  \n",
       "8   1.866263   17.453294   23.237841  \n",
       "1   0.618148   25.734355   33.986507  "
      ]
     },
     "execution_count": 22,
     "metadata": {},
     "output_type": "execute_result"
    }
   ],
   "source": [
    "# finally we bring everything together!\n",
    "final = analysts.merge(vols, how = 'inner', left_on = 'Symbol', right_index = True)\n",
    "\n",
    "final.sort_values('disagreement%',ascending=False)"
   ]
  },
  {
   "cell_type": "code",
   "execution_count": 23,
   "metadata": {
    "colab": {},
    "colab_type": "code",
    "id": "hQTHxZiKJTWd"
   },
   "outputs": [],
   "source": [
    "# strategy -> stocks with volatility below median (cheap vol)\n",
    "# high disagreement of analysts\n",
    "\n",
    "# this is only a very simple model!!!\n",
    "\n",
    "# show tableau dashboard"
   ]
  },
  {
   "cell_type": "code",
   "execution_count": 27,
   "metadata": {},
   "outputs": [
    {
     "name": "stdout",
     "output_type": "stream",
     "text": [
      "<Response [200]>\n"
     ]
    },
    {
     "ename": "KeyError",
     "evalue": "0",
     "output_type": "error",
     "traceback": [
      "\u001b[1;31m---------------------------------------------------------------------------\u001b[0m",
      "\u001b[1;31mKeyError\u001b[0m                                  Traceback (most recent call last)",
      "\u001b[1;32m<ipython-input-27-90e6e670828b>\u001b[0m in \u001b[0;36m<module>\u001b[1;34m\u001b[0m\n\u001b[0;32m     20\u001b[0m \u001b[0msoup\u001b[0m\u001b[1;33m=\u001b[0m \u001b[0mBeautifulSoup\u001b[0m\u001b[1;33m(\u001b[0m\u001b[0mresponse\u001b[0m\u001b[1;33m.\u001b[0m\u001b[0mcontent\u001b[0m\u001b[1;33m,\u001b[0m \u001b[0mfeatures\u001b[0m\u001b[1;33m=\u001b[0m \u001b[1;34m\"lxml\"\u001b[0m\u001b[1;33m)\u001b[0m\u001b[1;33m\u001b[0m\u001b[1;33m\u001b[0m\u001b[0m\n\u001b[0;32m     21\u001b[0m \u001b[1;33m\u001b[0m\u001b[0m\n\u001b[1;32m---> 22\u001b[1;33m \u001b[0msoup_df\u001b[0m\u001b[1;33m=\u001b[0m\u001b[0mpd\u001b[0m\u001b[1;33m.\u001b[0m\u001b[0mDataFrame\u001b[0m\u001b[1;33m(\u001b[0m\u001b[0msoup\u001b[0m\u001b[1;33m)\u001b[0m\u001b[1;33m\u001b[0m\u001b[1;33m\u001b[0m\u001b[0m\n\u001b[0m",
      "\u001b[1;32m~\\anaconda3\\lib\\site-packages\\pandas\\core\\frame.py\u001b[0m in \u001b[0;36m__init__\u001b[1;34m(self, data, index, columns, dtype, copy)\u001b[0m\n\u001b[0;32m    486\u001b[0m                     \u001b[0mmgr\u001b[0m \u001b[1;33m=\u001b[0m \u001b[0marrays_to_mgr\u001b[0m\u001b[1;33m(\u001b[0m\u001b[0marrays\u001b[0m\u001b[1;33m,\u001b[0m \u001b[0mcolumns\u001b[0m\u001b[1;33m,\u001b[0m \u001b[0mindex\u001b[0m\u001b[1;33m,\u001b[0m \u001b[0mcolumns\u001b[0m\u001b[1;33m,\u001b[0m \u001b[0mdtype\u001b[0m\u001b[1;33m=\u001b[0m\u001b[0mdtype\u001b[0m\u001b[1;33m)\u001b[0m\u001b[1;33m\u001b[0m\u001b[1;33m\u001b[0m\u001b[0m\n\u001b[0;32m    487\u001b[0m                 \u001b[1;32melse\u001b[0m\u001b[1;33m:\u001b[0m\u001b[1;33m\u001b[0m\u001b[1;33m\u001b[0m\u001b[0m\n\u001b[1;32m--> 488\u001b[1;33m                     \u001b[0mmgr\u001b[0m \u001b[1;33m=\u001b[0m \u001b[0minit_ndarray\u001b[0m\u001b[1;33m(\u001b[0m\u001b[0mdata\u001b[0m\u001b[1;33m,\u001b[0m \u001b[0mindex\u001b[0m\u001b[1;33m,\u001b[0m \u001b[0mcolumns\u001b[0m\u001b[1;33m,\u001b[0m \u001b[0mdtype\u001b[0m\u001b[1;33m=\u001b[0m\u001b[0mdtype\u001b[0m\u001b[1;33m,\u001b[0m \u001b[0mcopy\u001b[0m\u001b[1;33m=\u001b[0m\u001b[0mcopy\u001b[0m\u001b[1;33m)\u001b[0m\u001b[1;33m\u001b[0m\u001b[1;33m\u001b[0m\u001b[0m\n\u001b[0m\u001b[0;32m    489\u001b[0m             \u001b[1;32melse\u001b[0m\u001b[1;33m:\u001b[0m\u001b[1;33m\u001b[0m\u001b[1;33m\u001b[0m\u001b[0m\n\u001b[0;32m    490\u001b[0m                 \u001b[0mmgr\u001b[0m \u001b[1;33m=\u001b[0m \u001b[0minit_dict\u001b[0m\u001b[1;33m(\u001b[0m\u001b[1;33m{\u001b[0m\u001b[1;33m}\u001b[0m\u001b[1;33m,\u001b[0m \u001b[0mindex\u001b[0m\u001b[1;33m,\u001b[0m \u001b[0mcolumns\u001b[0m\u001b[1;33m,\u001b[0m \u001b[0mdtype\u001b[0m\u001b[1;33m=\u001b[0m\u001b[0mdtype\u001b[0m\u001b[1;33m)\u001b[0m\u001b[1;33m\u001b[0m\u001b[1;33m\u001b[0m\u001b[0m\n",
      "\u001b[1;32m~\\anaconda3\\lib\\site-packages\\pandas\\core\\internals\\construction.py\u001b[0m in \u001b[0;36minit_ndarray\u001b[1;34m(values, index, columns, dtype, copy)\u001b[0m\n\u001b[0;32m    167\u001b[0m     \u001b[1;31m# by definition an array here\u001b[0m\u001b[1;33m\u001b[0m\u001b[1;33m\u001b[0m\u001b[1;33m\u001b[0m\u001b[0m\n\u001b[0;32m    168\u001b[0m     \u001b[1;31m# the dtypes will be coerced to a single dtype\u001b[0m\u001b[1;33m\u001b[0m\u001b[1;33m\u001b[0m\u001b[1;33m\u001b[0m\u001b[0m\n\u001b[1;32m--> 169\u001b[1;33m     \u001b[0mvalues\u001b[0m \u001b[1;33m=\u001b[0m \u001b[0mprep_ndarray\u001b[0m\u001b[1;33m(\u001b[0m\u001b[0mvalues\u001b[0m\u001b[1;33m,\u001b[0m \u001b[0mcopy\u001b[0m\u001b[1;33m=\u001b[0m\u001b[0mcopy\u001b[0m\u001b[1;33m)\u001b[0m\u001b[1;33m\u001b[0m\u001b[1;33m\u001b[0m\u001b[0m\n\u001b[0m\u001b[0;32m    170\u001b[0m \u001b[1;33m\u001b[0m\u001b[0m\n\u001b[0;32m    171\u001b[0m     \u001b[1;32mif\u001b[0m \u001b[0mdtype\u001b[0m \u001b[1;32mis\u001b[0m \u001b[1;32mnot\u001b[0m \u001b[1;32mNone\u001b[0m\u001b[1;33m:\u001b[0m\u001b[1;33m\u001b[0m\u001b[1;33m\u001b[0m\u001b[0m\n",
      "\u001b[1;32m~\\anaconda3\\lib\\site-packages\\pandas\\core\\internals\\construction.py\u001b[0m in \u001b[0;36mprep_ndarray\u001b[1;34m(values, copy)\u001b[0m\n\u001b[0;32m    274\u001b[0m         \u001b[1;32mtry\u001b[0m\u001b[1;33m:\u001b[0m\u001b[1;33m\u001b[0m\u001b[1;33m\u001b[0m\u001b[0m\n\u001b[0;32m    275\u001b[0m             \u001b[1;32mif\u001b[0m \u001b[0mis_list_like\u001b[0m\u001b[1;33m(\u001b[0m\u001b[0mvalues\u001b[0m\u001b[1;33m[\u001b[0m\u001b[1;36m0\u001b[0m\u001b[1;33m]\u001b[0m\u001b[1;33m)\u001b[0m \u001b[1;32mor\u001b[0m \u001b[0mhasattr\u001b[0m\u001b[1;33m(\u001b[0m\u001b[0mvalues\u001b[0m\u001b[1;33m[\u001b[0m\u001b[1;36m0\u001b[0m\u001b[1;33m]\u001b[0m\u001b[1;33m,\u001b[0m \u001b[1;34m\"len\"\u001b[0m\u001b[1;33m)\u001b[0m\u001b[1;33m:\u001b[0m\u001b[1;33m\u001b[0m\u001b[1;33m\u001b[0m\u001b[0m\n\u001b[1;32m--> 276\u001b[1;33m                 \u001b[0mvalues\u001b[0m \u001b[1;33m=\u001b[0m \u001b[0mnp\u001b[0m\u001b[1;33m.\u001b[0m\u001b[0marray\u001b[0m\u001b[1;33m(\u001b[0m\u001b[1;33m[\u001b[0m\u001b[0mconvert\u001b[0m\u001b[1;33m(\u001b[0m\u001b[0mv\u001b[0m\u001b[1;33m)\u001b[0m \u001b[1;32mfor\u001b[0m \u001b[0mv\u001b[0m \u001b[1;32min\u001b[0m \u001b[0mvalues\u001b[0m\u001b[1;33m]\u001b[0m\u001b[1;33m)\u001b[0m\u001b[1;33m\u001b[0m\u001b[1;33m\u001b[0m\u001b[0m\n\u001b[0m\u001b[0;32m    277\u001b[0m             \u001b[1;32melif\u001b[0m \u001b[0misinstance\u001b[0m\u001b[1;33m(\u001b[0m\u001b[0mvalues\u001b[0m\u001b[1;33m[\u001b[0m\u001b[1;36m0\u001b[0m\u001b[1;33m]\u001b[0m\u001b[1;33m,\u001b[0m \u001b[0mnp\u001b[0m\u001b[1;33m.\u001b[0m\u001b[0mndarray\u001b[0m\u001b[1;33m)\u001b[0m \u001b[1;32mand\u001b[0m \u001b[0mvalues\u001b[0m\u001b[1;33m[\u001b[0m\u001b[1;36m0\u001b[0m\u001b[1;33m]\u001b[0m\u001b[1;33m.\u001b[0m\u001b[0mndim\u001b[0m \u001b[1;33m==\u001b[0m \u001b[1;36m0\u001b[0m\u001b[1;33m:\u001b[0m\u001b[1;33m\u001b[0m\u001b[1;33m\u001b[0m\u001b[0m\n\u001b[0;32m    278\u001b[0m                 \u001b[1;31m# GH#21861\u001b[0m\u001b[1;33m\u001b[0m\u001b[1;33m\u001b[0m\u001b[1;33m\u001b[0m\u001b[0m\n",
      "\u001b[1;32m~\\anaconda3\\lib\\site-packages\\bs4\\element.py\u001b[0m in \u001b[0;36m__getitem__\u001b[1;34m(self, key)\u001b[0m\n\u001b[0;32m   1319\u001b[0m         \"\"\"tag[key] returns the value of the 'key' attribute for the Tag,\n\u001b[0;32m   1320\u001b[0m         and throws an exception if it's not there.\"\"\"\n\u001b[1;32m-> 1321\u001b[1;33m         \u001b[1;32mreturn\u001b[0m \u001b[0mself\u001b[0m\u001b[1;33m.\u001b[0m\u001b[0mattrs\u001b[0m\u001b[1;33m[\u001b[0m\u001b[0mkey\u001b[0m\u001b[1;33m]\u001b[0m\u001b[1;33m\u001b[0m\u001b[1;33m\u001b[0m\u001b[0m\n\u001b[0m\u001b[0;32m   1322\u001b[0m \u001b[1;33m\u001b[0m\u001b[0m\n\u001b[0;32m   1323\u001b[0m     \u001b[1;32mdef\u001b[0m \u001b[0m__iter__\u001b[0m\u001b[1;33m(\u001b[0m\u001b[0mself\u001b[0m\u001b[1;33m)\u001b[0m\u001b[1;33m:\u001b[0m\u001b[1;33m\u001b[0m\u001b[1;33m\u001b[0m\u001b[0m\n",
      "\u001b[1;31mKeyError\u001b[0m: 0"
     ]
    }
   ],
   "source": [
    "url=\"https://www.alphavantage.co/query?\"\n",
    "\n",
    "\n",
    "\"\"\"https://www.alphavantage.co/query?function=TIME_SERIES_INTRADAY&symbol=IBM&interval=5min&apikey=demo\"\"\"\n",
    "\n",
    "\n",
    "inputs = {\n",
    "    \"function\" : \"TIME_SERIES_DAILY\",\n",
    "    \"symbol\" : \"ZM\",\n",
    "    \"apikey\": \"KS1FKWJ9GC7F1M5Z\"\n",
    "}\n",
    "\n",
    "response=requests.get(url,inputs)\n",
    "\n",
    "print(response)\n",
    "\n",
    "response = requests.get(\"https://www.alphavantage.co/query\",inputs)\n",
    "\n",
    "\n",
    "soup= BeautifulSoup(response.content, features= \"lxml\")\n",
    "\n",
    "soup_df=pd.DataFrame(soup)"
   ]
  },
  {
   "cell_type": "code",
   "execution_count": null,
   "metadata": {},
   "outputs": [],
   "source": []
  }
 ],
 "metadata": {
  "colab": {
   "collapsed_sections": [],
   "name": "python_for_financeipynb",
   "provenance": []
  },
  "kernelspec": {
   "display_name": "Python 3",
   "language": "python",
   "name": "python3"
  },
  "language_info": {
   "codemirror_mode": {
    "name": "ipython",
    "version": 3
   },
   "file_extension": ".py",
   "mimetype": "text/x-python",
   "name": "python",
   "nbconvert_exporter": "python",
   "pygments_lexer": "ipython3",
   "version": "3.7.6"
  }
 },
 "nbformat": 4,
 "nbformat_minor": 1
}
