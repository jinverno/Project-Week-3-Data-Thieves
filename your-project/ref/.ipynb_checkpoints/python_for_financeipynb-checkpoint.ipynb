{
 "cells": [
  {
   "cell_type": "code",
   "execution_count": null,
   "metadata": {
    "colab": {},
    "colab_type": "code",
    "id": "khmUetuTrg7K"
   },
   "outputs": [],
   "source": [
    "# analyst scraping\n",
    "import pandas as pd\n",
    "import numpy as np\n",
    "\n",
    "# we need to define the url to which we want to perform web scraping\n",
    "url = 'https://finance.yahoo.com/quote/TSLA/analysis?p=TSLA'\n",
    "\n",
    "# pandas read html function allows us to retrieve the data from yahoo finance\n",
    "data_list = pd.read_html(url)\n",
    "\n"
   ]
  },
  {
   "cell_type": "code",
   "execution_count": null,
   "metadata": {
    "colab": {
     "base_uri": "https://localhost:8080/",
     "height": 195
    },
    "colab_type": "code",
    "id": "TueUj1SjZWBR",
    "outputId": "d253df84-04d6-4231-f3dd-e992c5dc3562"
   },
   "outputs": [
    {
     "data": {
      "text/html": [
       "<div>\n",
       "<style scoped>\n",
       "    .dataframe tbody tr th:only-of-type {\n",
       "        vertical-align: middle;\n",
       "    }\n",
       "\n",
       "    .dataframe tbody tr th {\n",
       "        vertical-align: top;\n",
       "    }\n",
       "\n",
       "    .dataframe thead th {\n",
       "        text-align: right;\n",
       "    }\n",
       "</style>\n",
       "<table border=\"1\" class=\"dataframe\">\n",
       "  <thead>\n",
       "    <tr style=\"text-align: right;\">\n",
       "      <th></th>\n",
       "      <th>Earnings Estimate</th>\n",
       "      <th>Current Qtr. (Jun 2020)</th>\n",
       "      <th>Next Qtr. (Sep 2020)</th>\n",
       "      <th>Current Year (2020)</th>\n",
       "      <th>Next Year (2021)</th>\n",
       "    </tr>\n",
       "  </thead>\n",
       "  <tbody>\n",
       "    <tr>\n",
       "      <th>0</th>\n",
       "      <td>No. of Analysts</td>\n",
       "      <td>19.00</td>\n",
       "      <td>19.00</td>\n",
       "      <td>19.00</td>\n",
       "      <td>24.00</td>\n",
       "    </tr>\n",
       "    <tr>\n",
       "      <th>1</th>\n",
       "      <td>Avg. Estimate</td>\n",
       "      <td>-1.50</td>\n",
       "      <td>1.40</td>\n",
       "      <td>3.79</td>\n",
       "      <td>11.71</td>\n",
       "    </tr>\n",
       "    <tr>\n",
       "      <th>2</th>\n",
       "      <td>Low Estimate</td>\n",
       "      <td>-3.85</td>\n",
       "      <td>0.04</td>\n",
       "      <td>-0.50</td>\n",
       "      <td>4.00</td>\n",
       "    </tr>\n",
       "    <tr>\n",
       "      <th>3</th>\n",
       "      <td>High Estimate</td>\n",
       "      <td>0.57</td>\n",
       "      <td>2.95</td>\n",
       "      <td>7.83</td>\n",
       "      <td>21.65</td>\n",
       "    </tr>\n",
       "    <tr>\n",
       "      <th>4</th>\n",
       "      <td>Year Ago EPS</td>\n",
       "      <td>-1.12</td>\n",
       "      <td>1.86</td>\n",
       "      <td>0.20</td>\n",
       "      <td>3.79</td>\n",
       "    </tr>\n",
       "  </tbody>\n",
       "</table>\n",
       "</div>"
      ],
      "text/plain": [
       "  Earnings Estimate  ...  Next Year (2021)\n",
       "0   No. of Analysts  ...             24.00\n",
       "1     Avg. Estimate  ...             11.71\n",
       "2      Low Estimate  ...              4.00\n",
       "3     High Estimate  ...             21.65\n",
       "4      Year Ago EPS  ...              3.79\n",
       "\n",
       "[5 rows x 5 columns]"
      ]
     },
     "execution_count": 2,
     "metadata": {
      "tags": []
     },
     "output_type": "execute_result"
    }
   ],
   "source": [
    "earnings = data_list[0]\n",
    "earnings.head()"
   ]
  },
  {
   "cell_type": "code",
   "execution_count": null,
   "metadata": {
    "colab": {},
    "colab_type": "code",
    "id": "a0hr0XgQZXLv"
   },
   "outputs": [],
   "source": [
    "# let's define disagreement as the relative difference between the maximum and minimum rating\n",
    "disagreement = 100*(earnings['Current Qtr. (Jun 2020)'][3] - earnings['Current Qtr. (Jun 2020)'][2])/earnings['Current Qtr. (Jun 2020)'][3]"
   ]
  },
  {
   "cell_type": "code",
   "execution_count": null,
   "metadata": {
    "colab": {
     "base_uri": "https://localhost:8080/",
     "height": 34
    },
    "colab_type": "code",
    "id": "9mGCEXCqatOG",
    "outputId": "acb25ff1-ff38-4b1a-fa32-d0fc02316755"
   },
   "outputs": [
    {
     "data": {
      "text/plain": [
       "-114.8051948051948"
      ]
     },
     "execution_count": 6,
     "metadata": {
      "tags": []
     },
     "output_type": "execute_result"
    }
   ],
   "source": [
    "disagreement"
   ]
  },
  {
   "cell_type": "code",
   "execution_count": null,
   "metadata": {
    "colab": {
     "base_uri": "https://localhost:8080/",
     "height": 202
    },
    "colab_type": "code",
    "id": "Pn0LJs4zauFt",
    "outputId": "8efa2ad4-acbe-455e-829a-2d04fbbc62b5"
   },
   "outputs": [
    {
     "name": "stdout",
     "output_type": "stream",
     "text": [
      "TSLA\n",
      "MSFT\n",
      "AMZN\n",
      "GE\n",
      "MCD\n",
      "GOOG\n",
      "FB\n",
      "AAPL\n",
      "JNJ\n",
      "NFLX\n",
      "KO\n"
     ]
    }
   ],
   "source": [
    "# now that we understand this logic, we need to repeat it for a list of stocks\n",
    "disagreement_list = []\n",
    "stock_list = ['TSLA','MSFT','AMZN','GE','MCD','GOOG','FB','AAPL','JNJ','NFLX','KO']\n",
    "for stock in stock_list:\n",
    "  print(stock)\n",
    "  url = 'https://finance.yahoo.com/quote/'+stock+'/analysis?p=' + stock\n",
    "  data_list = pd.read_html(url)\n",
    "  earnings = data_list[0]\n",
    "  disagreement = 100*(earnings['Current Qtr. (Jun 2020)'][3] - earnings['Current Qtr. (Jun 2020)'][2])/earnings['Current Qtr. (Jun 2020)'][3]\n",
    "  disagreement_list.append([abs(disagreement),stock])"
   ]
  },
  {
   "cell_type": "code",
   "execution_count": null,
   "metadata": {
    "colab": {
     "base_uri": "https://localhost:8080/",
     "height": 202
    },
    "colab_type": "code",
    "id": "cq8Dczkja8FY",
    "outputId": "08585063-abb9-4b36-bddf-8d41d2816505"
   },
   "outputs": [
    {
     "data": {
      "text/plain": [
       "[[775.4385964912282, 'TSLA'],\n",
       " [10.59602649006622, 'MSFT'],\n",
       " [126.41509433962264, 'AMZN'],\n",
       " [300.0, 'GE'],\n",
       " [103.14960629921259, 'MCD'],\n",
       " [61.724806201550386, 'GOOG'],\n",
       " [55.909090909090914, 'FB'],\n",
       " [36.21399176954733, 'AAPL'],\n",
       " [17.901234567901234, 'JNJ'],\n",
       " [23.188405797101442, 'NFLX'],\n",
       " [33.333333333333336, 'KO']]"
      ]
     },
     "execution_count": 8,
     "metadata": {
      "tags": []
     },
     "output_type": "execute_result"
    }
   ],
   "source": [
    "disagreement_list"
   ]
  },
  {
   "cell_type": "code",
   "execution_count": null,
   "metadata": {
    "colab": {},
    "colab_type": "code",
    "id": "ko40RjGqbRCp"
   },
   "outputs": [],
   "source": [
    "# finally turn it into a dataframe\n",
    "analysts = pd.DataFrame(disagreement_list, columns = ['disagreement%','Symbol'])"
   ]
  },
  {
   "cell_type": "code",
   "execution_count": null,
   "metadata": {
    "colab": {
     "base_uri": "https://localhost:8080/",
     "height": 373
    },
    "colab_type": "code",
    "id": "90kTogH4cXC3",
    "outputId": "7e5cd164-25c8-4511-c3ad-aecd64883588"
   },
   "outputs": [
    {
     "data": {
      "text/html": [
       "<div>\n",
       "<style scoped>\n",
       "    .dataframe tbody tr th:only-of-type {\n",
       "        vertical-align: middle;\n",
       "    }\n",
       "\n",
       "    .dataframe tbody tr th {\n",
       "        vertical-align: top;\n",
       "    }\n",
       "\n",
       "    .dataframe thead th {\n",
       "        text-align: right;\n",
       "    }\n",
       "</style>\n",
       "<table border=\"1\" class=\"dataframe\">\n",
       "  <thead>\n",
       "    <tr style=\"text-align: right;\">\n",
       "      <th></th>\n",
       "      <th>disagreement%</th>\n",
       "      <th>Symbol</th>\n",
       "    </tr>\n",
       "  </thead>\n",
       "  <tbody>\n",
       "    <tr>\n",
       "      <th>0</th>\n",
       "      <td>775.438596</td>\n",
       "      <td>TSLA</td>\n",
       "    </tr>\n",
       "    <tr>\n",
       "      <th>1</th>\n",
       "      <td>10.596026</td>\n",
       "      <td>MSFT</td>\n",
       "    </tr>\n",
       "    <tr>\n",
       "      <th>2</th>\n",
       "      <td>126.415094</td>\n",
       "      <td>AMZN</td>\n",
       "    </tr>\n",
       "    <tr>\n",
       "      <th>3</th>\n",
       "      <td>300.000000</td>\n",
       "      <td>GE</td>\n",
       "    </tr>\n",
       "    <tr>\n",
       "      <th>4</th>\n",
       "      <td>103.149606</td>\n",
       "      <td>MCD</td>\n",
       "    </tr>\n",
       "    <tr>\n",
       "      <th>5</th>\n",
       "      <td>61.724806</td>\n",
       "      <td>GOOG</td>\n",
       "    </tr>\n",
       "    <tr>\n",
       "      <th>6</th>\n",
       "      <td>55.909091</td>\n",
       "      <td>FB</td>\n",
       "    </tr>\n",
       "    <tr>\n",
       "      <th>7</th>\n",
       "      <td>36.213992</td>\n",
       "      <td>AAPL</td>\n",
       "    </tr>\n",
       "    <tr>\n",
       "      <th>8</th>\n",
       "      <td>17.901235</td>\n",
       "      <td>JNJ</td>\n",
       "    </tr>\n",
       "    <tr>\n",
       "      <th>9</th>\n",
       "      <td>23.188406</td>\n",
       "      <td>NFLX</td>\n",
       "    </tr>\n",
       "    <tr>\n",
       "      <th>10</th>\n",
       "      <td>33.333333</td>\n",
       "      <td>KO</td>\n",
       "    </tr>\n",
       "  </tbody>\n",
       "</table>\n",
       "</div>"
      ],
      "text/plain": [
       "    disagreement% Symbol\n",
       "0      775.438596   TSLA\n",
       "1       10.596026   MSFT\n",
       "2      126.415094   AMZN\n",
       "3      300.000000     GE\n",
       "4      103.149606    MCD\n",
       "5       61.724806   GOOG\n",
       "6       55.909091     FB\n",
       "7       36.213992   AAPL\n",
       "8       17.901235    JNJ\n",
       "9       23.188406   NFLX\n",
       "10      33.333333     KO"
      ]
     },
     "execution_count": 10,
     "metadata": {
      "tags": []
     },
     "output_type": "execute_result"
    }
   ],
   "source": [
    "# et voilà!\n",
    "analysts"
   ]
  },
  {
   "cell_type": "code",
   "execution_count": null,
   "metadata": {
    "colab": {},
    "colab_type": "code",
    "id": "cfo6HOp3cxvc"
   },
   "outputs": [],
   "source": [
    "# now we need to calculate the volatility for the same list of stocks\n",
    "\n",
    "# calculate volatility\n",
    "\n",
    "# we will have to make http requests to an API in python \n",
    "import requests\n",
    "\n",
    "\n",
    "# alpha vantage stock market API\n",
    "key = 'LD1TS7G1MUG3SD5Q'\n",
    "\n",
    "inputs = {\n",
    "  'function' : 'TIME_SERIES_DAILY',\n",
    " 'symbol' : 'TSLA',\n",
    " 'apikey' : key   \n",
    "\n",
    "}\n",
    "# we can either query the link directly.\n",
    "# https://www.alphavantage.co/query?function=TIME_SERIES_DAILY&symbol=MSFT&apikey=LD1TS7G1MUG3SD5Q"
   ]
  },
  {
   "cell_type": "markdown",
   "metadata": {
    "colab_type": "text",
    "id": "DWK_2nSc2yT4"
   },
   "source": []
  },
  {
   "cell_type": "code",
   "execution_count": null,
   "metadata": {
    "colab": {},
    "colab_type": "code",
    "id": "eO6at2osjJNQ"
   },
   "outputs": [],
   "source": [
    "response = requests.get(\"https://www.alphavantage.co/query\",inputs)\n",
    "# in this line of code we are making the request for these given inputs to alphavantage\n"
   ]
  },
  {
   "cell_type": "code",
   "execution_count": null,
   "metadata": {
    "colab": {},
    "colab_type": "code",
    "id": "DU6-5zGYjjXt"
   },
   "outputs": [],
   "source": [
    "# analysing the json response\n",
    "pd.DataFrame(response.json())"
   ]
  },
  {
   "cell_type": "code",
   "execution_count": null,
   "metadata": {
    "colab": {},
    "colab_type": "code",
    "id": "AN5wS4kTjqNl"
   },
   "outputs": [],
   "source": [
    "# hmmm looks like we want the second part of the dataframe\n",
    "\n",
    "pd.DataFrame(response.json()['Time Series (Daily)'])"
   ]
  },
  {
   "cell_type": "code",
   "execution_count": null,
   "metadata": {
    "colab": {},
    "colab_type": "code",
    "id": "JUTUDAWgj99J"
   },
   "outputs": [],
   "source": [
    "# this is almost great, but we need to pivot the data\n",
    "\n",
    "data = pd.DataFrame(response.json()['Time Series (Daily)']).T\n",
    "data['Symbol'] = 'MSFT'\n",
    "\n",
    "data['4. close'] = pd.to_numeric(data['4. close'])"
   ]
  },
  {
   "cell_type": "code",
   "execution_count": null,
   "metadata": {
    "colab": {},
    "colab_type": "code",
    "id": "cQYm_JfJkNsz"
   },
   "outputs": [],
   "source": [
    "# calculating volatility\n",
    "\n",
    "# we start by calculating the daily returns\n",
    "data['returns'] = (data['4. close']-data['4. close'].shift(-1))/data['4. close'].shift(-1)"
   ]
  },
  {
   "cell_type": "code",
   "execution_count": null,
   "metadata": {
    "colab": {},
    "colab_type": "code",
    "id": "dVYYLkhKkCo7"
   },
   "outputs": [],
   "source": [
    "import matplotlib.pyplot as plt\n",
    "\n",
    "data.head()\n",
    "\n",
    "# distribution of returns of MSFT stock\n",
    "data.hist('returns')\n",
    "plt.show()"
   ]
  },
  {
   "cell_type": "code",
   "execution_count": null,
   "metadata": {
    "colab": {
     "base_uri": "https://localhost:8080/",
     "height": 195
    },
    "colab_type": "code",
    "id": "dtkxKDaMmmUu",
    "outputId": "fa3b0fd6-6d3f-4d39-8383-c016286fa2ad"
   },
   "outputs": [
    {
     "data": {
      "text/html": [
       "<div>\n",
       "<style scoped>\n",
       "    .dataframe tbody tr th:only-of-type {\n",
       "        vertical-align: middle;\n",
       "    }\n",
       "\n",
       "    .dataframe tbody tr th {\n",
       "        vertical-align: top;\n",
       "    }\n",
       "\n",
       "    .dataframe thead th {\n",
       "        text-align: right;\n",
       "    }\n",
       "</style>\n",
       "<table border=\"1\" class=\"dataframe\">\n",
       "  <thead>\n",
       "    <tr style=\"text-align: right;\">\n",
       "      <th></th>\n",
       "      <th>1. open</th>\n",
       "      <th>2. high</th>\n",
       "      <th>3. low</th>\n",
       "      <th>4. close</th>\n",
       "      <th>5. volume</th>\n",
       "      <th>Symbol</th>\n",
       "      <th>returns</th>\n",
       "      <th>volatility</th>\n",
       "      <th>median</th>\n",
       "    </tr>\n",
       "  </thead>\n",
       "  <tbody>\n",
       "    <tr>\n",
       "      <th>2020-05-06</th>\n",
       "      <td>776.5000</td>\n",
       "      <td>789.8000</td>\n",
       "      <td>761.1100</td>\n",
       "      <td>782.58</td>\n",
       "      <td>11024415</td>\n",
       "      <td>MSFT</td>\n",
       "      <td>0.018706</td>\n",
       "      <td>0.941019</td>\n",
       "      <td>1.133389</td>\n",
       "    </tr>\n",
       "    <tr>\n",
       "      <th>2020-05-05</th>\n",
       "      <td>789.7900</td>\n",
       "      <td>798.9200</td>\n",
       "      <td>762.1800</td>\n",
       "      <td>768.21</td>\n",
       "      <td>16991656</td>\n",
       "      <td>MSFT</td>\n",
       "      <td>0.009222</td>\n",
       "      <td>0.949886</td>\n",
       "      <td>1.133389</td>\n",
       "    </tr>\n",
       "    <tr>\n",
       "      <th>2020-05-04</th>\n",
       "      <td>701.0000</td>\n",
       "      <td>762.0000</td>\n",
       "      <td>698.0000</td>\n",
       "      <td>761.19</td>\n",
       "      <td>19237090</td>\n",
       "      <td>MSFT</td>\n",
       "      <td>0.085368</td>\n",
       "      <td>0.967097</td>\n",
       "      <td>1.133389</td>\n",
       "    </tr>\n",
       "    <tr>\n",
       "      <th>2020-05-01</th>\n",
       "      <td>755.0000</td>\n",
       "      <td>772.7700</td>\n",
       "      <td>683.0400</td>\n",
       "      <td>701.32</td>\n",
       "      <td>32531807</td>\n",
       "      <td>MSFT</td>\n",
       "      <td>-0.103034</td>\n",
       "      <td>0.948492</td>\n",
       "      <td>1.133389</td>\n",
       "    </tr>\n",
       "    <tr>\n",
       "      <th>2020-04-30</th>\n",
       "      <td>855.1900</td>\n",
       "      <td>869.8200</td>\n",
       "      <td>763.5000</td>\n",
       "      <td>781.88</td>\n",
       "      <td>28471854</td>\n",
       "      <td>MSFT</td>\n",
       "      <td>-0.023273</td>\n",
       "      <td>0.878106</td>\n",
       "      <td>1.133389</td>\n",
       "    </tr>\n",
       "  </tbody>\n",
       "</table>\n",
       "</div>"
      ],
      "text/plain": [
       "             1. open   2. high    3. low  ...   returns volatility    median\n",
       "2020-05-06  776.5000  789.8000  761.1100  ...  0.018706   0.941019  1.133389\n",
       "2020-05-05  789.7900  798.9200  762.1800  ...  0.009222   0.949886  1.133389\n",
       "2020-05-04  701.0000  762.0000  698.0000  ...  0.085368   0.967097  1.133389\n",
       "2020-05-01  755.0000  772.7700  683.0400  ... -0.103034   0.948492  1.133389\n",
       "2020-04-30  855.1900  869.8200  763.5000  ... -0.023273   0.878106  1.133389\n",
       "\n",
       "[5 rows x 9 columns]"
      ]
     },
     "execution_count": 12,
     "metadata": {
      "tags": []
     },
     "output_type": "execute_result"
    }
   ],
   "source": [
    "# how do we calculate volatility?\n",
    "data = data.iloc[::-1]\n",
    "# rolling window calculates standard deviation of past 20 days\n",
    "data['volatility'] = data['returns'].rolling(20).std()*np.sqrt(250)\n",
    "data = data.iloc[::-1]\n",
    "\n",
    "# calculate median to compare if current vol is high or low historically\n",
    "data['median'] = data['volatility'].agg(np.median)\n",
    "\n",
    "data.head()"
   ]
  },
  {
   "cell_type": "code",
   "execution_count": null,
   "metadata": {
    "colab": {
     "base_uri": "https://localhost:8080/",
     "height": 265
    },
    "colab_type": "code",
    "id": "hzm3kJ52ptMW",
    "outputId": "caa21da2-6618-4193-a73f-991f9ed4aae5"
   },
   "outputs": [
    {
     "data": {
      "image/png": "[encoded data removed]",
      "text/plain": [
       "<Figure size 432x288 with 2 Axes>"
      ]
     },
     "metadata": {
      "needs_background": "light",
      "tags": []
     },
     "output_type": "display_data"
    }
   ],
   "source": [
    "\n",
    "plt.plot(data.index,data['4. close'])\n",
    "ax = data['volatility'].plot(secondary_y=True, color='orange', marker='o')\n",
    "plt.show()"
   ]
  },
  {
   "cell_type": "code",
   "execution_count": null,
   "metadata": {
    "colab": {
     "base_uri": "https://localhost:8080/",
     "height": 218
    },
    "colab_type": "code",
    "id": "xGDYmWuBlB9X",
    "outputId": "e39ea464-c915-4cbf-a224-509206f5c389"
   },
   "outputs": [
    {
     "name": "stdout",
     "output_type": "stream",
     "text": [
      "TSLA\n",
      "MSFT\n",
      "AMZN\n",
      "GE\n",
      "MCD\n",
      "GOOG\n",
      "FB\n",
      "AAPL\n",
      "JNJ\n",
      "NFLX\n",
      "DIS\n",
      "KO\n"
     ]
    }
   ],
   "source": [
    "# now we repeat this entire process for the same list of stocks -> power of automation of a process\n",
    "stock_list = stock_list = ['TSLA','MSFT','AMZN','GE','MCD','GOOG','FB','AAPL','JNJ','NFLX','DIS','KO']\n",
    "import time\n",
    "#all restuls will end up in here\n",
    "data_list = []\n",
    "\n",
    "key = 'P0GDBRI5P9EOK0PW'\n",
    "for stock in stock_list:\n",
    "  print(stock)\n",
    "  time.sleep(1)\n",
    "  inputs = {'function' : 'TIME_SERIES_DAILY','symbol' : stock,'apikey' : key}\n",
    "  response = requests.get(\"https://www.alphavantage.co/query\",inputs)\n",
    "  try:\n",
    "    data = pd.DataFrame(response.json()['Time Series (Daily)']).T\n",
    "    data['Symbol'] = stock\n",
    "    data['4. close'] = pd.to_numeric(data['4. close'])\n",
    "    data['returns'] = 100*(data['4. close']-data['4. close'].shift(-1))/data['4. close'].shift(-1)\n",
    "    data = data.iloc[::-1]\n",
    "    data['volatility'] = data['returns'].rolling(20).std()*np.sqrt(250)\n",
    "    data['vol_median'] = data['volatility'].agg(np.median)\n",
    "    data = data.iloc[::-1]\n",
    "    data_list.append(data)\n",
    "  except:\n",
    "    continue\n",
    "\n",
    "stocks = pd.concat(data_list)"
   ]
  },
  {
   "cell_type": "code",
   "execution_count": null,
   "metadata": {
    "colab": {
     "base_uri": "https://localhost:8080/",
     "height": 1000
    },
    "colab_type": "code",
    "id": "7DFs6Xe8mZc_",
    "outputId": "541bf2ab-b76c-4e1b-f00e-43d71b5698eb"
   },
   "outputs": [
    {
     "data": {
      "image/png": "[encoded data removed]",
      "text/plain": [
       "<Figure size 432x288 with 1 Axes>"
      ]
     },
     "metadata": {
      "needs_background": "light",
      "tags": []
     },
     "output_type": "display_data"
    },
    {
     "data": {
      "image/png": "[encoded data removed]",
      "text/plain": [
       "<Figure size 432x288 with 1 Axes>"
      ]
     },
     "metadata": {
      "needs_background": "light",
      "tags": []
     },
     "output_type": "display_data"
    },
    {
     "data": {
      "image/png": "[encoded data removed]",
      "text/plain": [
       "<Figure size 432x288 with 1 Axes>"
      ]
     },
     "metadata": {
      "needs_background": "light",
      "tags": []
     },
     "output_type": "display_data"
    },
    {
     "data": {
      "image/png": "[encoded data removed]",
      "text/plain": [
       "<Figure size 432x288 with 1 Axes>"
      ]
     },
     "metadata": {
      "needs_background": "light",
      "tags": []
     },
     "output_type": "display_data"
    },
    {
     "data": {
      "image/png": "[encoded data removed]",
      "text/plain": [
       "<Figure size 432x288 with 1 Axes>"
      ]
     },
     "metadata": {
      "needs_background": "light",
      "tags": []
     },
     "output_type": "display_data"
    },
    {
     "data": {
      "image/png": "[encoded data removed]",
      "text/plain": [
       "<Figure size 432x288 with 1 Axes>"
      ]
     },
     "metadata": {
      "needs_background": "light",
      "tags": []
     },
     "output_type": "display_data"
    },
    {
     "data": {
      "image/png": "[encoded data removed]",
      "text/plain": [
       "<Figure size 432x288 with 1 Axes>"
      ]
     },
     "metadata": {
      "needs_background": "light",
      "tags": []
     },
     "output_type": "display_data"
    },
    {
     "data": {
      "image/png": "[encoded data removed]",
      "text/plain": [
       "<Figure size 432x288 with 1 Axes>"
      ]
     },
     "metadata": {
      "needs_background": "light",
      "tags": []
     },
     "output_type": "display_data"
    },
    {
     "data": {
      "image/png": "[encoded data removed]",
      "text/plain": [
       "<Figure size 432x288 with 1 Axes>"
      ]
     },
     "metadata": {
      "needs_background": "light",
      "tags": []
     },
     "output_type": "display_data"
    },
    {
     "data": {
      "image/png": "[encoded data removed]",
      "text/plain": [
       "<Figure size 432x288 with 1 Axes>"
      ]
     },
     "metadata": {
      "needs_background": "light",
      "tags": []
     },
     "output_type": "display_data"
    },
    {
     "data": {
      "image/png": "[encoded data removed]",
      "text/plain": [
       "<Figure size 432x288 with 1 Axes>"
      ]
     },
     "metadata": {
      "needs_background": "light",
      "tags": []
     },
     "output_type": "display_data"
    },
    {
     "data": {
      "image/png": "[encoded data removed]",
      "text/plain": [
       "<Figure size 432x288 with 1 Axes>"
      ]
     },
     "metadata": {
      "needs_background": "light",
      "tags": []
     },
     "output_type": "display_data"
    }
   ],
   "source": [
    "import matplotlib.pyplot as plt\n",
    "\n",
    "for df in data_list:\n",
    "  df.hist('returns')\n",
    "  title = \"returns for \" +  df['Symbol'].any()\n",
    "  plt.title(title)\n",
    "plt.show()"
   ]
  },
  {
   "cell_type": "code",
   "execution_count": null,
   "metadata": {
    "colab": {},
    "colab_type": "code",
    "id": "CcXm-QCkGUxz"
   },
   "outputs": [],
   "source": [
    "latest_vol = []\n",
    "for df in data_list:\n",
    "  latest_vol.append(df.groupby('Symbol').first())"
   ]
  },
  {
   "cell_type": "code",
   "execution_count": null,
   "metadata": {
    "colab": {
     "base_uri": "https://localhost:8080/",
     "height": 432
    },
    "colab_type": "code",
    "id": "i0qMAWOUHLsJ",
    "outputId": "67f7a67c-6ecc-407e-94ad-443bef983319"
   },
   "outputs": [
    {
     "data": {
      "text/html": [
       "<div>\n",
       "<style scoped>\n",
       "    .dataframe tbody tr th:only-of-type {\n",
       "        vertical-align: middle;\n",
       "    }\n",
       "\n",
       "    .dataframe tbody tr th {\n",
       "        vertical-align: top;\n",
       "    }\n",
       "\n",
       "    .dataframe thead th {\n",
       "        text-align: right;\n",
       "    }\n",
       "</style>\n",
       "<table border=\"1\" class=\"dataframe\">\n",
       "  <thead>\n",
       "    <tr style=\"text-align: right;\">\n",
       "      <th></th>\n",
       "      <th>1. open</th>\n",
       "      <th>2. high</th>\n",
       "      <th>3. low</th>\n",
       "      <th>4. close</th>\n",
       "      <th>5. volume</th>\n",
       "      <th>returns</th>\n",
       "      <th>volatility</th>\n",
       "      <th>vol_median</th>\n",
       "    </tr>\n",
       "    <tr>\n",
       "      <th>Symbol</th>\n",
       "      <th></th>\n",
       "      <th></th>\n",
       "      <th></th>\n",
       "      <th></th>\n",
       "      <th></th>\n",
       "      <th></th>\n",
       "      <th></th>\n",
       "      <th></th>\n",
       "    </tr>\n",
       "  </thead>\n",
       "  <tbody>\n",
       "    <tr>\n",
       "      <th>TSLA</th>\n",
       "      <td>776.5000</td>\n",
       "      <td>789.8000</td>\n",
       "      <td>761.1100</td>\n",
       "      <td>782.58</td>\n",
       "      <td>11024415</td>\n",
       "      <td>1.870582</td>\n",
       "      <td>94.101891</td>\n",
       "      <td>113.338898</td>\n",
       "    </tr>\n",
       "    <tr>\n",
       "      <th>MSFT</th>\n",
       "      <td>182.0800</td>\n",
       "      <td>184.2000</td>\n",
       "      <td>181.6306</td>\n",
       "      <td>182.54</td>\n",
       "      <td>32029937</td>\n",
       "      <td>0.984731</td>\n",
       "      <td>37.878566</td>\n",
       "      <td>47.020832</td>\n",
       "    </tr>\n",
       "    <tr>\n",
       "      <th>AMZN</th>\n",
       "      <td>2329.4400</td>\n",
       "      <td>2357.4500</td>\n",
       "      <td>2320.0000</td>\n",
       "      <td>2351.26</td>\n",
       "      <td>3066610</td>\n",
       "      <td>1.443610</td>\n",
       "      <td>49.276346</td>\n",
       "      <td>40.436766</td>\n",
       "    </tr>\n",
       "    <tr>\n",
       "      <th>GE</th>\n",
       "      <td>6.2000</td>\n",
       "      <td>6.2500</td>\n",
       "      <td>5.9700</td>\n",
       "      <td>5.98</td>\n",
       "      <td>117067525</td>\n",
       "      <td>-3.548387</td>\n",
       "      <td>64.528008</td>\n",
       "      <td>64.332106</td>\n",
       "    </tr>\n",
       "    <tr>\n",
       "      <th>MCD</th>\n",
       "      <td>180.6000</td>\n",
       "      <td>181.1200</td>\n",
       "      <td>176.8600</td>\n",
       "      <td>176.97</td>\n",
       "      <td>3914973</td>\n",
       "      <td>-1.266458</td>\n",
       "      <td>36.779520</td>\n",
       "      <td>38.102762</td>\n",
       "    </tr>\n",
       "    <tr>\n",
       "      <th>GOOG</th>\n",
       "      <td>1361.6900</td>\n",
       "      <td>1371.1200</td>\n",
       "      <td>1347.2900</td>\n",
       "      <td>1347.30</td>\n",
       "      <td>1204420</td>\n",
       "      <td>-0.281990</td>\n",
       "      <td>43.685460</td>\n",
       "      <td>44.167364</td>\n",
       "    </tr>\n",
       "    <tr>\n",
       "      <th>FB</th>\n",
       "      <td>208.1200</td>\n",
       "      <td>211.6000</td>\n",
       "      <td>206.6600</td>\n",
       "      <td>208.47</td>\n",
       "      <td>21695395</td>\n",
       "      <td>0.676100</td>\n",
       "      <td>43.900500</td>\n",
       "      <td>43.939582</td>\n",
       "    </tr>\n",
       "    <tr>\n",
       "      <th>AAPL</th>\n",
       "      <td>300.4600</td>\n",
       "      <td>303.2400</td>\n",
       "      <td>298.8700</td>\n",
       "      <td>300.63</td>\n",
       "      <td>35412653</td>\n",
       "      <td>1.031725</td>\n",
       "      <td>33.361735</td>\n",
       "      <td>48.885419</td>\n",
       "    </tr>\n",
       "    <tr>\n",
       "      <th>JNJ</th>\n",
       "      <td>150.0000</td>\n",
       "      <td>150.3200</td>\n",
       "      <td>148.0400</td>\n",
       "      <td>148.08</td>\n",
       "      <td>6190061</td>\n",
       "      <td>-0.949833</td>\n",
       "      <td>28.132449</td>\n",
       "      <td>32.960190</td>\n",
       "    </tr>\n",
       "    <tr>\n",
       "      <th>NFLX</th>\n",
       "      <td>429.3000</td>\n",
       "      <td>439.7700</td>\n",
       "      <td>426.3850</td>\n",
       "      <td>434.26</td>\n",
       "      <td>6609294</td>\n",
       "      <td>2.255816</td>\n",
       "      <td>44.603001</td>\n",
       "      <td>44.969799</td>\n",
       "    </tr>\n",
       "    <tr>\n",
       "      <th>DIS</th>\n",
       "      <td>101.4800</td>\n",
       "      <td>105.2700</td>\n",
       "      <td>98.8600</td>\n",
       "      <td>100.88</td>\n",
       "      <td>51950320</td>\n",
       "      <td>-0.178112</td>\n",
       "      <td>44.524492</td>\n",
       "      <td>45.042322</td>\n",
       "    </tr>\n",
       "    <tr>\n",
       "      <th>KO</th>\n",
       "      <td>45.4000</td>\n",
       "      <td>45.6300</td>\n",
       "      <td>44.7200</td>\n",
       "      <td>44.75</td>\n",
       "      <td>11887313</td>\n",
       "      <td>-1.431718</td>\n",
       "      <td>36.449992</td>\n",
       "      <td>39.748382</td>\n",
       "    </tr>\n",
       "  </tbody>\n",
       "</table>\n",
       "</div>"
      ],
      "text/plain": [
       "          1. open    2. high     3. low  ...   returns volatility  vol_median\n",
       "Symbol                                   ...                                 \n",
       "TSLA     776.5000   789.8000   761.1100  ...  1.870582  94.101891  113.338898\n",
       "MSFT     182.0800   184.2000   181.6306  ...  0.984731  37.878566   47.020832\n",
       "AMZN    2329.4400  2357.4500  2320.0000  ...  1.443610  49.276346   40.436766\n",
       "GE         6.2000     6.2500     5.9700  ... -3.548387  64.528008   64.332106\n",
       "MCD      180.6000   181.1200   176.8600  ... -1.266458  36.779520   38.102762\n",
       "GOOG    1361.6900  1371.1200  1347.2900  ... -0.281990  43.685460   44.167364\n",
       "FB       208.1200   211.6000   206.6600  ...  0.676100  43.900500   43.939582\n",
       "AAPL     300.4600   303.2400   298.8700  ...  1.031725  33.361735   48.885419\n",
       "JNJ      150.0000   150.3200   148.0400  ... -0.949833  28.132449   32.960190\n",
       "NFLX     429.3000   439.7700   426.3850  ...  2.255816  44.603001   44.969799\n",
       "DIS      101.4800   105.2700    98.8600  ... -0.178112  44.524492   45.042322\n",
       "KO        45.4000    45.6300    44.7200  ... -1.431718  36.449992   39.748382\n",
       "\n",
       "[12 rows x 8 columns]"
      ]
     },
     "execution_count": 18,
     "metadata": {
      "tags": []
     },
     "output_type": "execute_result"
    }
   ],
   "source": [
    "vols = pd.concat(latest_vol)\n",
    "vols"
   ]
  },
  {
   "cell_type": "code",
   "execution_count": null,
   "metadata": {
    "colab": {
     "base_uri": "https://localhost:8080/",
     "height": 373
    },
    "colab_type": "code",
    "id": "QvJLtav9JIPx",
    "outputId": "ca8cec1b-0593-4ea8-f325-290cc8250c66"
   },
   "outputs": [
    {
     "data": {
      "text/html": [
       "<div>\n",
       "<style scoped>\n",
       "    .dataframe tbody tr th:only-of-type {\n",
       "        vertical-align: middle;\n",
       "    }\n",
       "\n",
       "    .dataframe tbody tr th {\n",
       "        vertical-align: top;\n",
       "    }\n",
       "\n",
       "    .dataframe thead th {\n",
       "        text-align: right;\n",
       "    }\n",
       "</style>\n",
       "<table border=\"1\" class=\"dataframe\">\n",
       "  <thead>\n",
       "    <tr style=\"text-align: right;\">\n",
       "      <th></th>\n",
       "      <th>disagreement%</th>\n",
       "      <th>Symbol</th>\n",
       "      <th>1. open</th>\n",
       "      <th>2. high</th>\n",
       "      <th>3. low</th>\n",
       "      <th>4. close</th>\n",
       "      <th>5. volume</th>\n",
       "      <th>returns</th>\n",
       "      <th>volatility</th>\n",
       "      <th>vol_median</th>\n",
       "    </tr>\n",
       "  </thead>\n",
       "  <tbody>\n",
       "    <tr>\n",
       "      <th>0</th>\n",
       "      <td>775.438596</td>\n",
       "      <td>TSLA</td>\n",
       "      <td>776.5000</td>\n",
       "      <td>789.8000</td>\n",
       "      <td>761.1100</td>\n",
       "      <td>782.58</td>\n",
       "      <td>11024415</td>\n",
       "      <td>1.870582</td>\n",
       "      <td>94.101891</td>\n",
       "      <td>113.338898</td>\n",
       "    </tr>\n",
       "    <tr>\n",
       "      <th>3</th>\n",
       "      <td>300.000000</td>\n",
       "      <td>GE</td>\n",
       "      <td>6.2000</td>\n",
       "      <td>6.2500</td>\n",
       "      <td>5.9700</td>\n",
       "      <td>5.98</td>\n",
       "      <td>117067525</td>\n",
       "      <td>-3.548387</td>\n",
       "      <td>64.528008</td>\n",
       "      <td>64.332106</td>\n",
       "    </tr>\n",
       "    <tr>\n",
       "      <th>2</th>\n",
       "      <td>126.415094</td>\n",
       "      <td>AMZN</td>\n",
       "      <td>2329.4400</td>\n",
       "      <td>2357.4500</td>\n",
       "      <td>2320.0000</td>\n",
       "      <td>2351.26</td>\n",
       "      <td>3066610</td>\n",
       "      <td>1.443610</td>\n",
       "      <td>49.276346</td>\n",
       "      <td>40.436766</td>\n",
       "    </tr>\n",
       "    <tr>\n",
       "      <th>4</th>\n",
       "      <td>103.149606</td>\n",
       "      <td>MCD</td>\n",
       "      <td>180.6000</td>\n",
       "      <td>181.1200</td>\n",
       "      <td>176.8600</td>\n",
       "      <td>176.97</td>\n",
       "      <td>3914973</td>\n",
       "      <td>-1.266458</td>\n",
       "      <td>36.779520</td>\n",
       "      <td>38.102762</td>\n",
       "    </tr>\n",
       "    <tr>\n",
       "      <th>5</th>\n",
       "      <td>61.724806</td>\n",
       "      <td>GOOG</td>\n",
       "      <td>1361.6900</td>\n",
       "      <td>1371.1200</td>\n",
       "      <td>1347.2900</td>\n",
       "      <td>1347.30</td>\n",
       "      <td>1204420</td>\n",
       "      <td>-0.281990</td>\n",
       "      <td>43.685460</td>\n",
       "      <td>44.167364</td>\n",
       "    </tr>\n",
       "    <tr>\n",
       "      <th>6</th>\n",
       "      <td>55.909091</td>\n",
       "      <td>FB</td>\n",
       "      <td>208.1200</td>\n",
       "      <td>211.6000</td>\n",
       "      <td>206.6600</td>\n",
       "      <td>208.47</td>\n",
       "      <td>21695395</td>\n",
       "      <td>0.676100</td>\n",
       "      <td>43.900500</td>\n",
       "      <td>43.939582</td>\n",
       "    </tr>\n",
       "    <tr>\n",
       "      <th>7</th>\n",
       "      <td>36.213992</td>\n",
       "      <td>AAPL</td>\n",
       "      <td>300.4600</td>\n",
       "      <td>303.2400</td>\n",
       "      <td>298.8700</td>\n",
       "      <td>300.63</td>\n",
       "      <td>35412653</td>\n",
       "      <td>1.031725</td>\n",
       "      <td>33.361735</td>\n",
       "      <td>48.885419</td>\n",
       "    </tr>\n",
       "    <tr>\n",
       "      <th>10</th>\n",
       "      <td>33.333333</td>\n",
       "      <td>KO</td>\n",
       "      <td>45.4000</td>\n",
       "      <td>45.6300</td>\n",
       "      <td>44.7200</td>\n",
       "      <td>44.75</td>\n",
       "      <td>11887313</td>\n",
       "      <td>-1.431718</td>\n",
       "      <td>36.449992</td>\n",
       "      <td>39.748382</td>\n",
       "    </tr>\n",
       "    <tr>\n",
       "      <th>9</th>\n",
       "      <td>23.188406</td>\n",
       "      <td>NFLX</td>\n",
       "      <td>429.3000</td>\n",
       "      <td>439.7700</td>\n",
       "      <td>426.3850</td>\n",
       "      <td>434.26</td>\n",
       "      <td>6609294</td>\n",
       "      <td>2.255816</td>\n",
       "      <td>44.603001</td>\n",
       "      <td>44.969799</td>\n",
       "    </tr>\n",
       "    <tr>\n",
       "      <th>8</th>\n",
       "      <td>17.901235</td>\n",
       "      <td>JNJ</td>\n",
       "      <td>150.0000</td>\n",
       "      <td>150.3200</td>\n",
       "      <td>148.0400</td>\n",
       "      <td>148.08</td>\n",
       "      <td>6190061</td>\n",
       "      <td>-0.949833</td>\n",
       "      <td>28.132449</td>\n",
       "      <td>32.960190</td>\n",
       "    </tr>\n",
       "    <tr>\n",
       "      <th>1</th>\n",
       "      <td>10.596026</td>\n",
       "      <td>MSFT</td>\n",
       "      <td>182.0800</td>\n",
       "      <td>184.2000</td>\n",
       "      <td>181.6306</td>\n",
       "      <td>182.54</td>\n",
       "      <td>32029937</td>\n",
       "      <td>0.984731</td>\n",
       "      <td>37.878566</td>\n",
       "      <td>47.020832</td>\n",
       "    </tr>\n",
       "  </tbody>\n",
       "</table>\n",
       "</div>"
      ],
      "text/plain": [
       "    disagreement% Symbol    1. open  ...   returns volatility  vol_median\n",
       "0      775.438596   TSLA   776.5000  ...  1.870582  94.101891  113.338898\n",
       "3      300.000000     GE     6.2000  ... -3.548387  64.528008   64.332106\n",
       "2      126.415094   AMZN  2329.4400  ...  1.443610  49.276346   40.436766\n",
       "4      103.149606    MCD   180.6000  ... -1.266458  36.779520   38.102762\n",
       "5       61.724806   GOOG  1361.6900  ... -0.281990  43.685460   44.167364\n",
       "6       55.909091     FB   208.1200  ...  0.676100  43.900500   43.939582\n",
       "7       36.213992   AAPL   300.4600  ...  1.031725  33.361735   48.885419\n",
       "10      33.333333     KO    45.4000  ... -1.431718  36.449992   39.748382\n",
       "9       23.188406   NFLX   429.3000  ...  2.255816  44.603001   44.969799\n",
       "8       17.901235    JNJ   150.0000  ... -0.949833  28.132449   32.960190\n",
       "1       10.596026   MSFT   182.0800  ...  0.984731  37.878566   47.020832\n",
       "\n",
       "[11 rows x 10 columns]"
      ]
     },
     "execution_count": 28,
     "metadata": {
      "tags": []
     },
     "output_type": "execute_result"
    }
   ],
   "source": [
    "# finally we bring everything together!\n",
    "final = analysts.merge(vols, how = 'inner', left_on = 'Symbol', right_index = True)\n",
    "\n",
    "final.sort_values('disagreement%',ascending=False)"
   ]
  },
  {
   "cell_type": "code",
   "execution_count": null,
   "metadata": {
    "colab": {},
    "colab_type": "code",
    "id": "hQTHxZiKJTWd"
   },
   "outputs": [],
   "source": [
    "# strategy -> stocks with volatility below median (cheap vol)\n",
    "# high disagreement of analysts\n",
    "\n",
    "# this is only a very simple model!!!\n",
    "\n",
    "# show tableau dashboard"
   ]
  }
 ],
 "metadata": {
  "colab": {
   "collapsed_sections": [],
   "name": "python_for_financeipynb",
   "provenance": []
  },
  "kernelspec": {
   "display_name": "Python 3",
   "language": "python",
   "name": "python3"
  },
  "language_info": {
   "codemirror_mode": {
    "name": "ipython",
    "version": 3
   },
   "file_extension": ".py",
   "mimetype": "text/x-python",
   "name": "python",
   "nbconvert_exporter": "python",
   "pygments_lexer": "ipython3",
   "version": "3.7.6"
  }
 },
 "nbformat": 4,
 "nbformat_minor": 1
}
